{
 "cells": [
  {
   "cell_type": "markdown",
   "metadata": {},
   "source": [
    "<table border: solid black 0px; cellpadding=\"2\" width=\"100%\"><tr><td><br><center><font size=\"+5\" color=\"#000099\"><b>School of Web Wizardy</b></font></center><br><br><br><br><div align=\"left\"><b>Instructor:</b> Marc Hermon<br>Urbandale High School<br><a href=\"http://EngineeringU.com\">EngineeringU.com</a></div></td><td><center><img src=\"https://dl.dropboxusercontent.com/u/90219577/Hermon/CSE_Website/webdev/00/WebWiz.png\" height=\"200\" width=\"200\"><font face=\"courier\" size=\"+1\" color=\"blue\">&lt;h1&gt;<font color=\"black\">Alohomara!</font>&lt;/h1&gt;</font></center></td></tr></table>"
   ]
  },
  {
   "cell_type": "markdown",
   "metadata": {},
   "source": [
    "<table border=\"0\" cellpadding=\"2\" width=\"100%\">\n",
    "<tr><td style=\"vertical-align:top\">\n",
    "<font size=\"+1\">\n",
    "<a href=\"https://www.youtube.com/playlist?list=PLhy-Ne6FAXKadgWyleQx9kesQq3ONOJkI\" target=\"_blank\">Chapter 00: Internet Video Series</a><br>\n",
    "&nbsp;&nbsp;&nbsp;&nbsp;&nbsp;&nbsp;&nbsp;&nbsp;Notetaking on Four Videos\n",
    "<br><br>\n",
    "<b><font size=\"+2\" color=\"orange\"><center><img src=\"https://dl.dropboxusercontent.com/u/90219577/Hermon/CSE_Website/webdev/00/html.png\">&lt;/HTML&gt;</center></font></b><br>\n",
    "<font size=\"+1\">\n",
    "<a href=\"http://nbviewer.ipython.org/github/CSE-UHS/Web-Development/blob/master/Chapter01.ipynb\">Chapter 01: Creating and Publishing a Website</a>\n",
    "<br>\n",
    "&nbsp;&nbsp;&nbsp;&nbsp;&nbsp;&nbsp;&nbsp;&nbsp;Hello World Website\n",
    "<br><br>\n",
    "<a href=\"http://nbviewer.ipython.org/github/CSE-UHS/Web-Development/blob/master/Chapter02.ipynb\">Chapter 02: Elements and Attributes</a>\n",
    "<br>\n",
    "&nbsp;&nbsp;&nbsp;&nbsp;&nbsp;&nbsp;&nbsp;&nbsp;Elementary\n",
    "<br><br>\n",
    "<a href=\"http://nbviewer.ipython.org/github/CSE-UHS/Web-Development/blob/master/Chapter03.ipynb\">Chapter 03: Links</a>\n",
    "<br>\n",
    "&nbsp;&nbsp;&nbsp;&nbsp;&nbsp;&nbsp;&nbsp;&nbsp;LinkedIn<br><br>\n",
    "<a href=\"http://nbviewer.ipython.org/github/CSE-UHS/Web-Development/blob/master/Chapter04.ipynb\">Chapter 04: Images</a><br>\n",
    "&nbsp;&nbsp;&nbsp;&nbsp;&nbsp;&nbsp;&nbsp;&nbsp;Imagery\n",
    "<br><br>\n",
    "<a href=\"http://nbviewer.ipython.org/github/CSE-UHS/Web-Development/blob/master/Chapter05.ipynb\">Chapter 05: Tables</a>\n",
    "<br>\n",
    "&nbsp;&nbsp;&nbsp;&nbsp;&nbsp;&nbsp;&nbsp;&nbsp;Tablify\n",
    "<br><br>\n",
    "<a href=\"http://nbviewer.ipython.org/github/CSE-UHS/Web-Development/blob/master/Chapter06.ipynb\">Chapter 06: Web Standards and Validation</a>\n",
    "<br>\n",
    "&nbsp;&nbsp;&nbsp;&nbsp;&nbsp;&nbsp;&nbsp;&nbsp;Validation\n",
    "<br><br>\n",
    "<b><center><img src=\"https://dl.dropboxusercontent.com/u/90219577/Hermon/CSE_Website/webdev/00/css.png\"><font size=\"+2\"><font color=\"green\">CSS</font>&nbsp;{<font color=\"#00AA00\">style</font>:&nbsp;<font color=\"#00FF00\">cool</font>;}</font></b></center><br><br>\n",
    "<font size=\"+1\">\n",
    "<a href=\"http://nbviewer.ipython.org/github/CSE-UHS/Web-Development/blob/master/Chapter07.ipynb\">Chapter 07: Cascading Style Sheets</a>\n",
    "<br>\n",
    "&nbsp;&nbsp;&nbsp;&nbsp;&nbsp;&nbsp;&nbsp;&nbsp;Stylish\n",
    "<br><br>\n",
    "<a href=\"http://nbviewer.ipython.org/github/CSE-UHS/Web-Development/blob/master/Chapter08.ipynb\">Chapter 08: Colors and Backgrounds</a>\n",
    "<br>\n",
    "&nbsp;&nbsp;&nbsp;&nbsp;&nbsp;&nbsp;&nbsp;&nbsp;My Library\n",
    "<br><br>\n",
    "<a href=\"http://nbviewer.ipython.org/github/CSE-UHS/Web-Development/blob/master/Chapter09.ipynb\">Chapter 09: The Matplotlib Module</a>\n",
    "<br>\n",
    "&nbsp;&nbsp;&nbsp;&nbsp;&nbsp;&nbsp;&nbsp;&nbsp;Pie Chart\n",
    "<br><br>\n",
    "<a href=\"http://nbviewer.ipython.org/github/CSE-UHS/Web-Development/blob/master/Chapter10.ipynb\">Chapter 10: Exception Handling</a>\n",
    "<br>\n",
    "&nbsp;&nbsp;&nbsp;&nbsp;&nbsp;&nbsp;&nbsp;&nbsp;My Excel Project\n",
    "<br><br>\n",
    "\n",
    "</font>\n",
    "\n",
    "</td><td style=\"vertical-align:top\">\n",
    "<b><center><img src=\"https://dl.dropboxusercontent.com/u/90219577/Hermon/CSE_Website/webdev/00/php.png\"><font size=\"+2\" color=\"blue\"><? PHP and MySQL ?></font></b><center><br><br>\n",
    "<font size=\"+1\">\n",
    "<a href=\"http://nbviewer.ipython.org/github/CSE-UHS/Web-Development/blob/master/Chapter18.ipynb\">Chapter 18: Graphics</a>\n",
    "<br>\n",
    "&nbsp;&nbsp;&nbsp;&nbsp;&nbsp;&nbsp;&nbsp;&nbsp;Python Picasso Project\n",
    "<br><br>\n",
    "<a href=\"http://nbviewer.ipython.org/github/CSE-UHS/Web-Development/blob/master/Chapter19.ipynb\">Chapter 19: MVC Pattern</a>\n",
    "<br>\n",
    "&nbsp;&nbsp;&nbsp;&nbsp;&nbsp;&nbsp;&nbsp;&nbsp;Position Changer\n",
    "<br><br>\n",
    "<a href=\"http://nbviewer.ipython.org/github/CSE-UHS/Web-Development/blob/master/Chapter20.ipynb\">Chapter 20: More GUI</a>\n",
    "<br>\n",
    "&nbsp;&nbsp;&nbsp;&nbsp;&nbsp;&nbsp;&nbsp;&nbsp;Color Explorer<br>\n",
    "&nbsp;&nbsp;&nbsp;&nbsp;&nbsp;&nbsp;&nbsp;&nbsp;Canvas Art<br>\n",
    "&nbsp;&nbsp;&nbsp;&nbsp;&nbsp;&nbsp;&nbsp;&nbsp;Animated Ball\n",
    "<br><br>\n",
    "<b><center><img src=\"https://dl.dropboxusercontent.com/u/90219577/Hermon/CSE_Website/webdev/00/javascript.png\"><font size=\"+2\" color=\"red\">Javascript</font></b><center><br><br>\n",
    "</font>\n",
    "</td></tr></table>"
   ]
  },
  {
   "cell_type": "code",
   "execution_count": null,
   "metadata": {
    "collapsed": true
   },
   "outputs": [],
   "source": []
  }
 ],
 "metadata": {
  "kernelspec": {
   "display_name": "Python 2",
   "language": "python",
   "name": "python2"
  },
  "language_info": {
   "codemirror_mode": {
    "name": "ipython",
    "version": 2
   },
   "file_extension": ".py",
   "mimetype": "text/x-python",
   "name": "python",
   "nbconvert_exporter": "python",
   "pygments_lexer": "ipython2",
   "version": "2.7.10"
  }
 },
 "nbformat": 4,
 "nbformat_minor": 0
}
