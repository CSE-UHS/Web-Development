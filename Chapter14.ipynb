{
 "cells": [
  {
   "cell_type": "markdown",
   "metadata": {
    "deletable": true,
    "editable": true
   },
   "source": [
    "<div align=\"right\">\n",
    "<a href=\"http://nbviewer.ipython.org/github/CSP-UHS/Web-Development/blob/master/Chapter00.ipynb\" align=\"right\"><h2>Table of Contents</h2></a>\n",
    "</div>"
   ]
  },
  {
   "cell_type": "markdown",
   "metadata": {
    "deletable": true,
    "editable": true
   },
   "source": [
    "# Chapter 14: Positioning of Elements"
   ]
  },
  {
   "cell_type": "markdown",
   "metadata": {
    "deletable": true,
    "editable": true
   },
   "source": [
    "## Floating Elements"
   ]
  },
  {
   "cell_type": "markdown",
   "metadata": {
    "deletable": true,
    "editable": true
   },
   "source": [
    "An element can be floated to the right or to left by using the property <b>float</b>. That is to say that the box with its contents either floats to the right or to the left in a document (or the containing box). The following figure illustrates the principle:\n",
    "\n",
    "A left-floating box\n",
    "<img src=\"http://www.hermonswebsites.com/PyNotebooks/HTML_CSS_PHP/14/floatbox.png\">\n",
    "\n",
    "If we for example would like to have a text wrapping around a picture, the result would be like this: \n",
    "<img src=\"http://www.hermonswebsites.com/PyNotebooks/HTML_CSS_PHP/14/always.png\">\n",
    "\n",
    "The HTML code for the example above, look as follows:\n",
    "\n",
    "<img src=\"http://www.hermonswebsites.com/PyNotebooks/HTML_CSS_PHP/14/html.png\">\n",
    "\n",
    "To get the picture floating to the left and the text to surround it, you only have to set the property <b>float</b> to left:\n",
    "\n",
    "<img src=\"http://www.hermonswebsites.com/PyNotebooks/HTML_CSS_PHP/14/css.png\">\n",
    "\n",
    "<h3>Using Clear</h3>\n",
    "\n",
    "The clear property is used to control how and elements coming after floated elements in a document shall behave.\n",
    "\n",
    "By default, elements coming after floated elements are moved up to fill the available space which will be freed when a box is floated to a side. In our example above the text is automatically moved up beside the picture of Professor Snape.\n",
    "\n",
    "The property <b>clear</b> can assume the values left, right, both or none. If <b>clear</b> is set to both for a box, the top margin border of this box will always be under the lower margin borders for possible floating boxes coming from above. Feel free to try this out."
   ]
  },
  {
   "cell_type": "markdown",
   "metadata": {
    "deletable": true,
    "editable": true
   },
   "source": [
    "## Making Column Divs"
   ]
  },
  {
   "cell_type": "markdown",
   "metadata": {
    "deletable": true,
    "editable": true
   },
   "source": [
    "Floats can also be used for columns in a document. To create the columns, you simply have to structure the desired columns in the HTML-code with <b>&lt;div&gt;</b> as follows:\n",
    "\n",
    "<img src=\"http://www.hermonswebsites.com/PyNotebooks/HTML_CSS_PHP/14/content.png\">\n",
    "\n",
    "Now the desired width of the columns is set to e.g. 33% in our CSS code, and then you simply float each column to the left by defining the property <b>float</b>:\n",
    "\n",
    "<img src=\"http://www.hermonswebsites.com/PyNotebooks/HTML_CSS_PHP/14/divcss.png\">\n",
    "\n",
    "The final result will look like this. We entered the 3 unforgiveable curses into the content to demonstrate how dangerous CSS can be in the wrong hands.\n",
    "\n",
    "<img src=\"http://www.hermonswebsites.com/PyNotebooks/HTML_CSS_PHP/14/columns.png\">\n",
    "\n",
    "<h3>float can be set as either left, right or none.</h3>\n",
    "\n",
    "Floats are useful in many situations and will often be used together with positioning. We will now examine absolute and relative positioning of elements."
   ]
  },
  {
   "cell_type": "markdown",
   "metadata": {
    "deletable": true,
    "editable": true
   },
   "source": [
    "## Absolute and Relative Positioning"
   ]
  },
  {
   "cell_type": "markdown",
   "metadata": {
    "deletable": true,
    "editable": true
   },
   "source": [
    "With CSS positioning, you can place an element exactly where you want it on your page. Together with floats, positioning gives you many possibilities to create an advanced and precise layout.\n",
    "\n",
    "Imagine a browser window as a system of coordinates:\n",
    "\t\n",
    "<img src=\"http://www.hermonswebsites.com/PyNotebooks/HTML_CSS_PHP/14/browser.gif\">\n",
    "\t\n",
    "    \n",
    "The principle behind CSS positioning is that you can position any box anywhere in the system of coordinates. Let's say we want to position a headline. If we want this headline positioned 100px from the top of the document and 200px from the left of the document, we could type the following in our CSS:\n",
    "\n",
    "<img src=\"http://www.hermonswebsites.com/PyNotebooks/HTML_CSS_PHP/14/hcss.png\">\n",
    "\n",
    "<img src=\"http://www.hermonswebsites.com/PyNotebooks/HTML_CSS_PHP/14/h1result.gif\">\n",
    "\n",
    "<h2>Absolute Positioning</h2>\n",
    "As you can see, positioning with CSS is a very precise technique to place elements. It is much easier than trying to use tables, transparent images or anything else. An element which is positioned <b>absolute</b> does not obtain any space in the document. This means that it does not leave an empty space after being positioned. To position an element absolutely, the <b>position</b> property is set as <b>absolute</b>. You can subsequently use the properties <b>left, right, top,</b> and <b>bottom</b> to place the box.\n",
    "\n",
    "As an example of absolute positioning, we choose to place a box in the bottom right corner of the browser window. Here is the HTML, CSS and how it will be displayed in the browser window. Try it out.\n",
    "<h3>HTML</h3>\n",
    "<img src=\"http://www.hermonswebsites.com/PyNotebooks/HTML_CSS_PHP/14/box3html.png\">\n",
    "<h3>CSS</h3>\n",
    "<img src=\"http://www.hermonswebsites.com/PyNotebooks/HTML_CSS_PHP/14/box3css.png\">\n",
    "<h3>Browser Window</h3>\n",
    "<img src=\"http://www.hermonswebsites.com/PyNotebooks/HTML_CSS_PHP/14/box3.png\">\n",
    "\t\n",
    "<h2>Relative positioning</h2>\n",
    "\n",
    "To position an element relatively, the <b>property</b> position is set as <b>relative</b>. The difference between absolute and relative positioning is how the position is being calculated.\n",
    "\n",
    "The position for an element which is relatively positioned is calculated from the original position in the document. That means that you move the element to the right, to the left, up or down. This way, the element still obtains a space in the document after it is positioned.\n",
    "This means that pictures that are relatively positioned will leave empty spaces at their original positions in the document.\n"
   ]
  },
  {
   "cell_type": "markdown",
   "metadata": {
    "deletable": true,
    "editable": true
   },
   "source": [
    "## Layer on layer with z-index (Layers)"
   ]
  },
  {
   "cell_type": "markdown",
   "metadata": {
    "deletable": true,
    "editable": true
   },
   "source": [
    "CSS operates in three dimensions - height, width and depth. We have seen the first two dimensions in previous lessons. In this lesson, we will learn how to let different elements become layers. In short, this means the order of which the elements overlap one another.\n",
    "\n",
    "For that purpose, you can assign each element a number (<b>z-index</b>). <b><u>The system is that an element with a higher number overlaps an element with a lower number</u></b>. Let us say we are playing poker and have a royal straight flush. Our hand can be presented in a way where each card has got a z-index:\n",
    "<img src=\"http://www.hermonswebsites.com/PyNotebooks/HTML_CSS_PHP/14/cards.gif\">\n",
    "\n",
    "\n",
    "The actual z-index numbers are not important only the chronological sequence of the numbers. So you could use 1-5 to overlap some elements but you could also use z-indices of 2,3,6,8,9. Just try to keep it all <b>straight</b>!...Get it, <b>STRAIGHT</b>!\n",
    "\n",
    "The method is relatively simple but the possibilities are several. You can place images on text or text above text etc. Layers can be used in many situations. For example, try to use z-index to create effects in headlines instead of creating these as graphics. For one thing, it is faster to load text and for another, it provides a potentially better ranking in search engines."
   ]
  },
  {
   "cell_type": "markdown",
   "metadata": {
    "deletable": true,
    "editable": true
   },
   "source": [
    "<table style=\"background-color: #FFFFFF; border: 1px solid #000000; width: 100%; padding: 2px;\">\n",
    "<tr style=\"background-color: #0000FF;\">\n",
    "<td width=\"90\" style=\"vertical-align: top; border: 1px solid #000000;\"><img src=\"http://www.hermonswebsites.com/PyNotebooks/HTML_CSS_PHP/00/WebWiz.png\" style=\"border: 2px solid #021a40;\">\n",
    "</td><td style=\"border: 1px solid #000000; color: #FFFFFF;\"><h2><center><b>Web Wizardry Task</b></center></h2></td></tr>\n",
    "<tr>\n",
    "<td valign=\"top\" colspan=\"2\" style=\"text-align: left;\"><font size=\"+1\"><center><a href=\"http://www.csszengarden.com/\" target=\"_blank\"><img src=\"http://www.hermonswebsites.com/PyNotebooks/HTML_CSS_PHP/14/zen.png\" style=\"border:2px solid #021a40;\"></a></center><br>\n",
    "&nbsp;&nbsp;&nbsp;&nbsp;&nbsp;There is no assigned task at this time for this chapter, however for those interested in a challenge or those thinking about a career in Web Development an excellent independent project to consider to further hone your CSS skills would be to try out the <a href=\"http://www.csszengarden.com/\" target=\"_blank\">CSS Zen Garden</a>, a website that was launched in May of 2003. The CSS Zen Garden is a World Wide Web development resource. The goal of the site is to showcase what is possible with CSS-based design. Style sheets contributed by graphic designers from around the world are used to change the visual presentation of a single HTML file, producing hundreds of different designs. Aside from reference to an external CSS file, the HTML markup itself never changes. All visual differences are the result of the CSS (and supporting imagery). You simply download the single HTML file from their website and then work on a CSS file that will style the page. For years I've thought about trying to see what I could design but have never had the time. Pure procrastination I guess! If any of you ever accomplish a CSS Zen Garden styling sheet please share your work with me so I can include it in this book for future students.</font></td></tr></table>"
   ]
  },
  {
   "cell_type": "markdown",
   "metadata": {
    "deletable": true,
    "editable": true
   },
   "source": [
    "<table  style=\"background-color: #FFFFFF; width: 100%; padding: 2px;\">\n",
    "<tr style=\"background-color: #FFFFFF;\">\n",
    "<td style=\"border: 1px solid white;\" width=\"100px\">\n",
    "<div>\n",
    "<a href=\"http://nbviewer.ipython.org/github/CSP-UHS/Web-Development/blob/master/Chapter13.ipynb\"><img src=\"http://www.hermonswebsites.com/PyNotebooks/HTML_CSS_PHP/leftA.png\" height=\"50px\" width=\"50px\" align=\"left\"></a>\n",
    "</div>\n",
    "</td>\n",
    "<td style=\"border: 1px solid white;\">\n",
    "<div align=\"center\">\n",
    "<a href=\"http://nbviewer.ipython.org/github/CSP-UHS/Web-Development/blob/master/Chapter00.ipynb\"><h2>Table of Contents</h2></a>\n",
    "</div>\n",
    "</td>\n",
    "<td style=\"border: 1px solid white;\" width=\"100px\">\n",
    "<div>\n",
    "<a href=\"http://nbviewer.ipython.org/github/CSP-UHS/Web-Development/blob/master/Chapter15.ipynb\"><img src=\"http://www.hermonswebsites.com/PyNotebooks/HTML_CSS_PHP/rightA.png\"  height=\"50px\" width=\"50px\"  align=\"right\"></a>\n",
    "</div>\n",
    "</td>\n",
    "</tr></table>"
   ]
  }
 ],
 "metadata": {
  "kernelspec": {
   "display_name": "Python 2",
   "language": "python",
   "name": "python2"
  },
  "language_info": {
   "codemirror_mode": {
    "name": "ipython",
    "version": 2
   },
   "file_extension": ".py",
   "mimetype": "text/x-python",
   "name": "python",
   "nbconvert_exporter": "python",
   "pygments_lexer": "ipython2",
   "version": "2.7.10"
  }
 },
 "nbformat": 4,
 "nbformat_minor": 0
}
