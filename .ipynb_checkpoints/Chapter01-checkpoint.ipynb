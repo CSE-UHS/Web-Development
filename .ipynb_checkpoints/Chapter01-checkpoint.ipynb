{
 "cells": [
  {
   "cell_type": "markdown",
   "metadata": {},
   "source": [
    "<div align=\"right\">\n",
    "<a href=\"http://nbviewer.ipython.org/github/CSE-UHS/Web-Development/blob/master/Chapter00.ipynb\" align=\"right\"><h2>Table of Contents</h2></a>\n",
    "</div>"
   ]
  },
  {
   "cell_type": "markdown",
   "metadata": {},
   "source": [
    "# Chapter 1: Creating and Publishing a Website"
   ]
  },
  {
   "cell_type": "markdown",
   "metadata": {},
   "source": [
    "## Using Text Wrangler"
   ]
  },
  {
   "cell_type": "markdown",
   "metadata": {},
   "source": [
    "We don't need much to learn web development. Really, all we need are 3 things: a text editor program, some server space to upload our files to the internet and a browser to view our webpage.\n",
    "\n",
    "You have a \"browser\". A browser is the program that makes it possible to browse and open websites. Right now you are looking at this page in your browser. It is not important which browser you use. The most common is Microsoft Internet Explorer. But there are others such as Safari, Firefox and Chrome and they can all be used.\n",
    "\n",
    "We also need a simple text editor. Windows offers Notepad, which is usually found in the start menu under Programs in Accessories and Macs offer TextEdit. We of course have been using a simple text editor called Canopy and if you went to the bottom left of the Canopy editor you could switch the language to HTML, however, we are going to try and broaden our horizons and learn how to use another text editing program called \"Text Wrangler\" which you can find in your Applications folder.\n",
    "<center><img src=\"https://dl.dropboxusercontent.com/u/90219577/Hermon/CSE_Website/webdev/01/textW.jpg\"></center>\n",
    "There are plenty of online videos to help you learn more about how to use Text Wrangler. Start by opening a new file in Text Wrangler and then watch the video below to learn some of the important basics. Under Preferences you can also change the color themes of the editor window. There has always been an ongoing debate on whether using a dark or white background screen is better on the eyes. Finally, as it shows in the video select HTML from the drop down of languages at the bottom of the screen.\n",
    "    <center><iframe width=\"640\" height=\"360\" src=\"https://www.youtube.com/embed/1kSsqic-aKo?list=PLhy-Ne6FAXKbMbdotOvRNR0JdG2KoWgXF\" frameborder=\"0\" allowfullscreen></iframe></center>"
   ]
  },
  {
   "cell_type": "markdown",
   "metadata": {},
   "source": [
    "## What is HTML?"
   ]
  },
  {
   "cell_type": "markdown",
   "metadata": {},
   "source": [
    "HTML is the \"mother tongue\" of your browser. HTML was invented in 1990 by a scientist called Tim Berners-Lee. The purpose was to make it easier for scientists at different universities to gain access to each other's research documents. By inventing HTML he laid the foundation for the web as we know it today.\n",
    "\n",
    "HTML is a language, which makes it possible to present information on the Internet. What you see when you view a page on the Internet is your browser's interpretation of HTML. To see the HTML code of a page on the Internet, simply click \"View\" in the top menu of your browser and then Developer - View Source. This code might look complicated but if you want to make websites, there is no way around HTML. Even if you're using a program to create websites, such as Dreamweaver, a basic knowledge of HTML can make life a lot simpler and your website a lot better. The good news is that HTML is easy to learn and use. In fact, by the end of this first chapter you will have made your first website. (It won't be very impressive but you will feel a rush of power!)\n",
    "\n",
    "<b>HTML is an abbreviation of \"HyperText Mark-up Language\"</b>\n",
    "\n",
    "<b><u>HyperText</u></b> basically refers to the ability to link text to another page, an image, a sound file or even a mail program.<br>\n",
    "<b><u>Mark-up</u></b> is what you do with the text. You are marking up the text the same way you do in a text editing program with headings, bullets, bold text etc.<br>\n",
    "<b><u>Language</u></b> is what HTML is. It uses many English words.<br><br>\n",
    "We will be learning what is called XHTML (Extensible HyperText Mark-up Language) which, in short, is a new and more well-structured way of writing HTML."
   ]
  },
  {
   "cell_type": "markdown",
   "metadata": {},
   "source": [
    "## Elements and Tags"
   ]
  },
  {
   "cell_type": "markdown",
   "metadata": {},
   "source": [
    "Elements give structure to a HTML document and tells the browser how you want your website to be presented. Generally elements consists of a start tag, some content, and an end tag. Tags are labels you use to mark up the begining and end of an element. All tags have the same format: they begin with a less-than sign \"<\" and end with a greater-than sign \">\".\n",
    "\n",
    "Generally speaking, there are two kinds of tags - opening tags: <b>&lt;b&gt;</b> and closing tags: <b>&lt;/b&gt;</b>. This particular tag is the BOLD tag and would bold any text between the tags. The only difference between an opening tag and a closing tag is the forward slash \"/\". You label content by putting it between an opening tag and a closing tag. \n",
    "\n",
    "As they say, there's an exception to every rule and in HTML the exception is that there are a few elements which both open and close in the same tag. These so-called empty elements are not connected to a specific passage in the text but rather are isolated labels, for example, a line break which looks like this: <b>&lt;br/&gt;</b>. HTML is all about elements. To learn HTML is to learn and use different tags. Below is how to bold, underline and italicize text in HTML using some very simple tags. Below that is how it would be displayed on a website."
   ]
  },
  {
   "cell_type": "markdown",
   "metadata": {},
   "source": [
    "<b>This text will be bold</b><br/>\n",
    "<u>This text will be underlines</u><br/>\n",
    "<i>This text will be italicized</i>"
   ]
  },
  {
   "cell_type": "markdown",
   "metadata": {},
   "source": [
    "<b>This text will be bold</b><br/>\n",
    "<u>This text will be underlines</u><br/>\n",
    "<i>This text will be italicized</i>"
   ]
  },
  {
   "cell_type": "markdown",
   "metadata": {
    "collapsed": false
   },
   "source": [
    "<h1>This is header 1</h1>\n",
    "<h2>This is a subheading</h2>\n",
    "<ol>\n",
    "<li>number 1</li>\n",
    "<li>number 2</li>\n",
    "<li>number 3</li>\n",
    "</ol>\n",
    "<a href=\"http://www.hermonswebsites.com\">Click Here</a>"
   ]
  },
  {
   "cell_type": "code",
   "execution_count": null,
   "metadata": {
    "collapsed": true
   },
   "outputs": [],
   "source": [
    "%logstart begins the logging session. The flags -ort determine how your logfile will look. -o will log the Output lines. -r will log the Raw input lines. -t will timestamp each input line. The next section is the name of your logfile. At the end of this lesson we will type %logstop and a log file of all of your iPython Session work will be saved to your working directory for you to show to your instructor."
   ]
  },
  {
   "cell_type": "markdown",
   "metadata": {},
   "source": [
    "Place a title in the logfile using a comment. In Python, the # symbol comments out the rest of the line. Since nothing is executed in a comment, iPython will offer a continuation line. Just press enter. You can write a comment at any time during your logging session if you want to take a note or answer a question."
   ]
  },
  {
   "cell_type": "code",
   "execution_count": 46,
   "metadata": {
    "collapsed": false
   },
   "outputs": [],
   "source": [
    "# This is Marc Hermon's Chapter 1 Log"
   ]
  },
  {
   "cell_type": "markdown",
   "metadata": {},
   "source": [
    "## Operators"
   ]
  },
  {
   "cell_type": "markdown",
   "metadata": {},
   "source": [
    "The iPython session will evaluate expressions, and if you don't tell it to do anything with the expression, iPython will send the result back to you as output. Try adding two integers:"
   ]
  },
  {
   "cell_type": "code",
   "execution_count": 2,
   "metadata": {
    "collapsed": false
   },
   "outputs": [
    {
     "data": {
      "text/plain": [
       "8"
      ]
     },
     "execution_count": 2,
     "metadata": {},
     "output_type": "execute_result"
    }
   ],
   "source": [
    "5 + 3"
   ]
  },
  {
   "cell_type": "markdown",
   "metadata": {},
   "source": [
    "Adding two integer types results in an <b>int</b>, which can only represent an integer. It is of type int. A variable is a place in memory to hold data, and a variable’s type says what sort of things the bits in memory represent.\n",
    "\n",
    "<center><img src=\"https://dl.dropboxusercontent.com/u/90219577/Hermon/CSE_Website/notebooks/01/1types.png\"></center>"
   ]
  },
  {
   "cell_type": "markdown",
   "metadata": {},
   "source": [
    "If you put a decimal point in a number, that number is identified as the variable type float. Floats have limited precision but can approximate any real number, including integers. Ignore the last few digits if a lot of digits come after the decimal point. What happens if you add a <b>float</b> to an <b>int</b>?"
   ]
  },
  {
   "cell_type": "code",
   "execution_count": 4,
   "metadata": {
    "collapsed": false
   },
   "outputs": [
    {
     "data": {
      "text/plain": [
       "8.0"
      ]
     },
     "execution_count": 4,
     "metadata": {},
     "output_type": "execute_result"
    }
   ],
   "source": [
    "5 + 3.  #Note the decimal point!"
   ]
  },
  {
   "cell_type": "markdown",
   "metadata": {},
   "source": [
    "Below is a table of some common mathematical operators. The <b>Floor</b> division will always round the answer down to the nearest integer. <b>Modulus</b> or <b>Mod</b> for short gives the remainder of a division problem. Normal mathematical order of operations still apply in coding.\n",
    "\n",
    "<center><img src=\"https://dl.dropboxusercontent.com/u/90219577/Hermon/CSE_Website/notebooks/01/1operators.png\"></center>\n",
    "\n",
    "Predict the output of the following in your Engineering Notebook before you evaluate them."
   ]
  },
  {
   "cell_type": "code",
   "execution_count": null,
   "metadata": {
    "collapsed": false
   },
   "outputs": [],
   "source": [
    "7 * 2"
   ]
  },
  {
   "cell_type": "code",
   "execution_count": null,
   "metadata": {
    "collapsed": false
   },
   "outputs": [],
   "source": [
    "7 * 2."
   ]
  },
  {
   "cell_type": "code",
   "execution_count": null,
   "metadata": {
    "collapsed": false
   },
   "outputs": [],
   "source": [
    "7/2"
   ]
  },
  {
   "cell_type": "code",
   "execution_count": null,
   "metadata": {
    "collapsed": false
   },
   "outputs": [],
   "source": [
    "7/2."
   ]
  },
  {
   "cell_type": "code",
   "execution_count": null,
   "metadata": {
    "collapsed": false
   },
   "outputs": [],
   "source": [
    "10//3"
   ]
  },
  {
   "cell_type": "code",
   "execution_count": null,
   "metadata": {
    "collapsed": false
   },
   "outputs": [],
   "source": [
    "2**3"
   ]
  },
  {
   "cell_type": "code",
   "execution_count": null,
   "metadata": {
    "collapsed": false
   },
   "outputs": [],
   "source": [
    "8 % 3"
   ]
  },
  {
   "cell_type": "code",
   "execution_count": null,
   "metadata": {
    "collapsed": false
   },
   "outputs": [],
   "source": [
    "23 ** 43"
   ]
  },
  {
   "cell_type": "markdown",
   "metadata": {},
   "source": [
    "The L in the output of this last problem stands for another native type: long.\n",
    "\n",
    "You can also call existing functions and they will return a value:"
   ]
  },
  {
   "cell_type": "code",
   "execution_count": null,
   "metadata": {
    "collapsed": false
   },
   "outputs": [],
   "source": [
    "abs(-7) # absolute value function"
   ]
  },
  {
   "cell_type": "markdown",
   "metadata": {},
   "source": [
    "## Assigning Variables"
   ]
  },
  {
   "cell_type": "markdown",
   "metadata": {},
   "source": [
    "You can assign a value to a variable. Python executes the assignment command, but nothing is returned. Only the state is affected: the variable a is now bound to bits in memory that represent the value 2. When you assign a value to a variable, the variable must be on the left side of the = sign. This is one of the syntax rules for Python. The syntax of a language specifies how the symbols of the language are allowed to be put together."
   ]
  },
  {
   "cell_type": "code",
   "execution_count": 45,
   "metadata": {
    "collapsed": false
   },
   "outputs": [],
   "source": [
    "a = 2\n",
    "b = 7"
   ]
  },
  {
   "cell_type": "markdown",
   "metadata": {},
   "source": [
    "You can then do math on the assigned variables. Predict how the following will evaluate:"
   ]
  },
  {
   "cell_type": "code",
   "execution_count": null,
   "metadata": {
    "collapsed": false
   },
   "outputs": [],
   "source": [
    "a * b"
   ]
  },
  {
   "cell_type": "code",
   "execution_count": null,
   "metadata": {
    "collapsed": false
   },
   "outputs": [],
   "source": [
    "b ** a"
   ]
  },
  {
   "cell_type": "code",
   "execution_count": null,
   "metadata": {
    "collapsed": false
   },
   "outputs": [],
   "source": [
    "b % 2"
   ]
  },
  {
   "cell_type": "markdown",
   "metadata": {},
   "source": [
    "Examine the following:"
   ]
  },
  {
   "cell_type": "code",
   "execution_count": 40,
   "metadata": {
    "collapsed": false
   },
   "outputs": [
    {
     "data": {
      "text/plain": [
       "8"
      ]
     },
     "execution_count": 40,
     "metadata": {},
     "output_type": "execute_result"
    }
   ],
   "source": [
    "x = 8\n",
    "x"
   ]
  },
  {
   "cell_type": "code",
   "execution_count": 41,
   "metadata": {
    "collapsed": false
   },
   "outputs": [
    {
     "data": {
      "text/plain": [
       "9"
      ]
     },
     "execution_count": 41,
     "metadata": {},
     "output_type": "execute_result"
    }
   ],
   "source": [
    "x = x + 1\n",
    "x"
   ]
  },
  {
   "cell_type": "code",
   "execution_count": 44,
   "metadata": {
    "collapsed": false
   },
   "outputs": [
    {
     "data": {
      "text/plain": [
       "11"
      ]
     },
     "execution_count": 44,
     "metadata": {},
     "output_type": "execute_result"
    }
   ],
   "source": [
    "x = 10\n",
    "x += 1 # This is a short cut for x = x + 1. You could do this for other math operators also.\n",
    "x"
   ]
  },
  {
   "cell_type": "markdown",
   "metadata": {},
   "source": [
    "Unlike most languages, Python allows <b>multiple assignment</b> in a single line of code, as shown here:"
   ]
  },
  {
   "cell_type": "code",
   "execution_count": 1,
   "metadata": {
    "collapsed": false
   },
   "outputs": [
    {
     "data": {
      "text/plain": [
       "65"
      ]
     },
     "execution_count": 1,
     "metadata": {},
     "output_type": "execute_result"
    }
   ],
   "source": [
    "x, y = (65, 40)\n",
    "x"
   ]
  },
  {
   "cell_type": "markdown",
   "metadata": {},
   "source": [
    "## Proper Variable Names"
   ]
  },
  {
   "cell_type": "markdown",
   "metadata": {},
   "source": [
    "   Variables should start with a lower case letter. Variables can start with an upper case letter or an underscore, but those are special cases and should not be done on a normal basis. After the first lower case letter, the variable may include uppercase and lowercase letters, along with numbers and underscores. Variables may not include spaces. <b>Variables are case sensitive.</b> \n",
    "   The official style guide for Python says that multi-word variable names in Python should be separated by underscores. For example, use hair_style and not hairStyle. \n",
    "   All upper-case variable names like MAX_SPEED are allowed only in circumstances where the variable's value should never change. A variable that isn't variable is called a constant.\n",
    "   Here are some example variable names that are ok, and not ok to use:\n",
    "   \n",
    "   <center><img src=\"https://dl.dropboxusercontent.com/u/90219577/Hermon/CSE_Website/notebooks/01/1propervar.png\"></center>"
   ]
  },
  {
   "cell_type": "markdown",
   "metadata": {},
   "source": [
    "## Checking Variable Types"
   ]
  },
  {
   "cell_type": "markdown",
   "metadata": {},
   "source": [
    "Assign the following four variables as seen below:"
   ]
  },
  {
   "cell_type": "code",
   "execution_count": 38,
   "metadata": {
    "collapsed": false
   },
   "outputs": [],
   "source": [
    "a = \"This is a sentence!\"\n",
    "b = 3\n",
    "c = 4.3\n",
    "d = True"
   ]
  },
  {
   "cell_type": "markdown",
   "metadata": {},
   "source": [
    "You can now check the type of each variable by using type( ). The first one is demonstrated below and you should do the rest."
   ]
  },
  {
   "cell_type": "code",
   "execution_count": 33,
   "metadata": {
    "collapsed": false
   },
   "outputs": [
    {
     "data": {
      "text/plain": [
       "str"
      ]
     },
     "execution_count": 33,
     "metadata": {},
     "output_type": "execute_result"
    }
   ],
   "source": [
    "type(a)"
   ]
  },
  {
   "cell_type": "markdown",
   "metadata": {},
   "source": [
    "### This is a good place to stop the chapter and digest what you've learned so far. Enter the following command to stop your logging session. This will save a log file to your working directory."
   ]
  },
  {
   "cell_type": "code",
   "execution_count": null,
   "metadata": {
    "collapsed": false
   },
   "outputs": [],
   "source": [
    "%logstop"
   ]
  },
  {
   "cell_type": "markdown",
   "metadata": {},
   "source": [
    "<table width=\"100%\" border=\"1\" cellpadding=\"2\" cellspacing=\"0\">\n",
    "<tr>\n",
    "<td width=\"90\" bgcolor=\"#00FF00\" style=\"vertical-align:top\"><img src=\"https://dl.dropboxusercontent.com/u/90219577/Hermon/CSE_Website/notebooks/sith.png\" style=\"border:2px solid #021a40;\"><center><b>\n",
    "Jedi<br>Training<br>Task</b></center></td>\n",
    "<td valign=\"top\"><font size=\"+2\"><center><b>Show your log file to your instructor before moving on.</b></font></td></tr></table>"
   ]
  },
  {
   "cell_type": "markdown",
   "metadata": {},
   "source": [
    "<div align=\"right\">\n",
    "<a href=\"http://nbviewer.ipython.org/github/CSE-UHS/CSE_Python/blob/master/Chapter00.ipynb\" align=\"right\"><h2>Table of Contents</h2></a>\n",
    "</div>"
   ]
  }
 ],
 "metadata": {
  "kernelspec": {
   "display_name": "Python 2",
   "language": "python",
   "name": "python2"
  },
  "language_info": {
   "codemirror_mode": {
    "name": "ipython",
    "version": 2
   },
   "file_extension": ".py",
   "mimetype": "text/x-python",
   "name": "python",
   "nbconvert_exporter": "python",
   "pygments_lexer": "ipython2",
   "version": "2.7.10"
  }
 },
 "nbformat": 4,
 "nbformat_minor": 0
}
