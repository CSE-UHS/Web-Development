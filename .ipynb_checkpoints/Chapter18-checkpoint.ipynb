{
 "cells": [
  {
   "cell_type": "markdown",
   "metadata": {
    "deletable": true,
    "editable": true
   },
   "source": [
    "<div align=\"right\">\n",
    "<a href=\"http://nbviewer.ipython.org/github/CSP-UHS/Web-Development/blob/master/Chapter00.ipynb\" align=\"right\"><h2>Table of Contents</h2></a>\n",
    "</div>"
   ]
  },
  {
   "cell_type": "markdown",
   "metadata": {
    "deletable": true,
    "editable": true
   },
   "source": [
    "# Chapter 18: Arrays"
   ]
  },
  {
   "cell_type": "markdown",
   "metadata": {
    "deletable": true,
    "editable": true
   },
   "source": [
    "## Creating an Array"
   ]
  },
  {
   "cell_type": "markdown",
   "metadata": {
    "deletable": true,
    "editable": true
   },
   "source": [
    "An <b>array</b> is also called a <b>list</b>. We covered this pretty extensively in Python and will try to show you some of the differences in this chapter. We can learn a lot of things in this first section of code.\n",
    "\n",
    "<img src=\"http://www.hermonswebsites.com/PyNotebooks/HTML_CSS_PHP/18/array1.png\">\n",
    "\n",
    "First of all, on line 22 we created an array using the <b>array( )</b> function. We created an array of all strings but you could have integers or even mixed types. If you remember from Python, each item in the list has an index number starting with the first item which is indexed as item ZERO (0)! Never forget this!\n",
    "\n",
    "On line 23, we printed out item 3 in the list by putting the index number in square brackets at the end of the array variable. (item 3 is actually the 4th item in the list which was \"Dumbledore\")\n",
    "\n",
    "On line 24, we determined how many items were in the list. If you remember in Python we used <b>len(list)</b>. In PHP, we use <b>count(list)</b>. On line 25 we printed out the count variable which is a 7.\n",
    "\t"
   ]
  },
  {
   "cell_type": "markdown",
   "metadata": {
    "deletable": true,
    "editable": true
   },
   "source": [
    "## Array Looping"
   ]
  },
  {
   "cell_type": "markdown",
   "metadata": {
    "deletable": true,
    "editable": true
   },
   "source": [
    "Examine the following code to see how we can loop through a list:\n",
    "\n",
    "<img src=\"http://www.hermonswebsites.com/PyNotebooks/HTML_CSS_PHP/18/array2.png\">\n",
    "\n",
    "<ul>\n",
    "<li>Again on line 22 we created our array of wizards.</li>\n",
    "<li>On line 23 we wrote a title for our list</li>\n",
    "<li>On line 24 we used HTML for an un-ordered list</li>\n",
    "<li>On line 27 we made a <b>for( )</b> loop that starts with x set at 0 and will loop as long as x is less than the count of the list. Why not less than or equal to? Because we need to loop from 0-6 which is all 7 items. Thoughout each iteration of the loop we print the list item tag and then the next item in the list.</li>\n",
    "<li>Finally on line 31 we closed the un-ordered list.</li>\n",
    "\n",
    "</ul>"
   ]
  },
  {
   "cell_type": "markdown",
   "metadata": {
    "deletable": true,
    "editable": true
   },
   "source": [
    "## Multidimensional Arrays"
   ]
  },
  {
   "cell_type": "markdown",
   "metadata": {
    "deletable": true,
    "editable": true
   },
   "source": [
    "An array does not have to be just a single list of items. It can be a list of lists or even a list of lists of lists. I changed the code a little below to make a <b>two dimensional array</b> (list of lists). We start with our list of 7 wizards (although I changed a couple of them) but now each wizard is another list including their name, status and age. Now it takes two index numbers to drill down to an item. Examine the following code and see if you can determine what the output would be on the webpage.\n",
    "\n",
    "<img src=\"http://www.hermonswebsites.com/PyNotebooks/HTML_CSS_PHP/18/2darray1.png\">\n",
    "\n",
    "If you think you know the output click <a href=\"http://www.hermonswebsites.com/PyNotebooks/HTML_CSS_PHP/18/2darray2.png\" target=\"_blank\">HERE</a> to check your answers."
   ]
  },
  {
   "cell_type": "markdown",
   "metadata": {
    "deletable": true,
    "editable": true
   },
   "source": [
    "<table style=\"background-color: #FFFFFF; border: 1px solid #000000; width: 100%; padding: 2px;\">\n",
    "<tr style=\"background-color: #0000FF;\">\n",
    "<td width=\"90\" style=\"vertical-align: top; border: 1px solid #000000;\"><img src=\"http://www.hermonswebsites.com/PyNotebooks/HTML_CSS_PHP/00/WebWiz.png\" style=\"border: 2px solid #021a40;\">\n",
    "</td><td style=\"border: 1px solid #000000; color: #FFFFFF;\"><h2><center><b>Web Wizardry Task</b></center></h2></td></tr>\n",
    "<tr>\n",
    "<td valign=\"top\" colspan=\"2\" style=\"text-align: left;\"><font size=\"+1\"><center><h2><u>Math Wiz</u></h2></center>\n",
    "<br>\n",
    "Using the array below write a quick for( ) loop that will add up all of the wizard's ages. It should work even if I add some more wizards to the list.<br><br>\n",
    "\n",
    "\t\t$wizards = array(<br>\n",
    "\t\t\t\t\t\t\tarray(\"Potter\",\"good\",18),<br>\n",
    "\t\t\t\t\t\t\tarray(\"Weasley\",\"good\",18),<br>\n",
    "\t\t\t\t\t\t\tarray(\"Longbottom\",\"good\",18),<br>\n",
    "\t\t\t\t\t\t\tarray(\"Dumbledore\",\"good\",150),<br>\n",
    "\t\t\t\t\t\t\tarray(\"Voldemort\",\"bad\",70),<br>\n",
    "\t\t\t\t\t\t\tarray(\"Shacklebolt\",\"good\",42),<br>\n",
    "\t\t\t\t\t\t\tarray(\"Malfoy\",\"bad\",18),<br>\n",
    "\t\t\t\t\t\t);<br>\n",
    "                 </td></tr></table>"
   ]
  },
  {
   "cell_type": "markdown",
   "metadata": {
    "deletable": true,
    "editable": true
   },
   "source": [
    "<table  style=\"background-color: #FFFFFF; width: 100%; padding: 2px;\">\n",
    "<tr style=\"background-color: #FFFFFF;\">\n",
    "<td style=\"border: 1px solid white;\" width=\"100px\">\n",
    "<div>\n",
    "<a href=\"http://nbviewer.ipython.org/github/CSP-UHS/Web-Development/blob/master/Chapter17.ipynb\"><img src=\"http://www.hermonswebsites.com/PyNotebooks/HTML_CSS_PHP/leftA.png\" height=\"50px\" width=\"50px\" align=\"left\"></a>\n",
    "</div>\n",
    "</td>\n",
    "<td style=\"border: 1px solid white;\">\n",
    "<div align=\"center\">\n",
    "<a href=\"http://nbviewer.ipython.org/github/CSP-UHS/Web-Development/blob/master/Chapter00.ipynb\"><h2>Table of Contents</h2></a>\n",
    "</div>\n",
    "</td>\n",
    "<td style=\"border: 1px solid white;\" width=\"100px\">\n",
    "<div>\n",
    "<a href=\"http://nbviewer.ipython.org/github/CSP-UHS/Web-Development/blob/master/Chapter19.ipynb\"><img src=\"http://www.hermonswebsites.com/PyNotebooks/HTML_CSS_PHP/rightA.png\"  height=\"50px\" width=\"50px\"  align=\"right\"></a>\n",
    "</div>\n",
    "</td>\n",
    "</tr></table>"
   ]
  }
 ],
 "metadata": {
  "kernelspec": {
   "display_name": "Python 2",
   "language": "python",
   "name": "python2"
  },
  "language_info": {
   "codemirror_mode": {
    "name": "ipython",
    "version": 2
   },
   "file_extension": ".py",
   "mimetype": "text/x-python",
   "name": "python",
   "nbconvert_exporter": "python",
   "pygments_lexer": "ipython2",
   "version": "2.7.10"
  }
 },
 "nbformat": 4,
 "nbformat_minor": 0
}
