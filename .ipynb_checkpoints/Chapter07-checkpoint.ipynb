{
 "cells": [
  {
   "cell_type": "markdown",
   "metadata": {},
   "source": [
    "<div align=\"right\">\n",
    "<a href=\"http://nbviewer.ipython.org/github/CSE-UHS/Web-Development/blob/master/Chapter00.ipynb\" align=\"right\"><h2>Table of Contents</h2></a>\n",
    "</div>"
   ]
  },
  {
   "cell_type": "markdown",
   "metadata": {},
   "source": [
    "# Chapter 7: What is CSS?"
   ]
  },
  {
   "cell_type": "markdown",
   "metadata": {},
   "source": [
    "<b>Cascading Style Sheets (CSS)</b> is a fantastic tool to add layout to your HTML websites. For example, CSS covers fonts, colours, margins, lines, height, width, background images, advanced positions and many other things. CSS is a must for anyone working with web design.\n",
    "\n",
    "\n",
    "<img src=\"https://dl.dropboxusercontent.com/u/90219577/Hermon/CSE_Website/webdev/07/cssrule.gif\">\n",
    "\n",
    "\n",
    "A short time ago, the language HTML was only used to add structure to text. An author could mark his text by stating \"this is a headline\" or \"this is a paragraph\" using HTML tags such as &lt;h1&gt; and &lt;p&gt;.\n",
    "\n",
    "As the Web gained popularity, designers started looking for possibilities to add layout to online documents. To meet this demand, the browser producers (at that time Netscape and Microsoft) invented new HTML tags such as for example &lt;font&gt; which differed from the original HTML tags by defining layout - and not just structure.\n",
    "\n",
    "This also led to a situation where original structure tags such as &lt;table&gt; were increasingly being misused to layout pages instead of adding structure to text. Many new layout tags such as &lt;blink&gt; were only supported by one type of browser. \"You need browser X to view this page\" became a common disclaimer on web sites. \n",
    "\n",
    "CSS was invented to remedy this situation by providing web designers with sophisticated layout opportunities supported by all browsers. At the same time, separation of the presentation style of documents from the content of documents, makes site maintenance a lot easier. Your instructor was very guilty of continuing to use tables to layout webpages rather than learning the brand new CSS at the time. It's hard to teach an old dog new tricks! I actually still have some old webpages that don't properly use CSS. Don't be like me! CSS was a revolution in the world of web design and it's good for you to learn it along with the HTML you have just learned."
   ]
  },
  {
   "cell_type": "markdown",
   "metadata": {},
   "source": [
    "## Creating a Style Sheet"
   ]
  },
  {
   "cell_type": "markdown",
   "metadata": {},
   "source": [
    "With all the different types of HTML you need to tell the browser which \"dialect\" your HTML is in, in your case XHTML. To do that, you use a <b>Document Type Declaration</b>. The Document Type Declaration is always written in the top of the document as follows and you should add this to your HTML template.\n",
    "\n",
    "<img src=\"https://dl.dropboxusercontent.com/u/90219577/Hermon/CSE_Website/webdev/06/DTD.png\"><br>\n",
    "\n",
    "The first line of code above is the Document Type Declaration and tells the browser that you want to write XHTML. You also need to insert some extra information in the html tag with the two attributes <b>xmlns</b> and <b>lang</b>.\n",
    "\n",
    "<b>xmlns</b> is short for <b>\"XML-Name-Space\"</b> and should always have the value <b>http://www.w3.org/1999/xhtml</b>. That is all you need to know. But if you have a big hunger for complicated knowledge you can read more about namespaces on W3C's website.\n",
    "\n",
    "In the <b>lang</b> attribute you state which language the document is written in. For this the <a href=\"https://www.w3.org/WAI/ER/IG/ert/iso639.htm#2letter\" target=\"_blank\">ISO 639 standard</a> is used, which lists codes for all the languages in the world. In the example above the language are set to English (\"en\").\n",
    "\n",
    "With a DTD the browser knows exactly how it should read and show your HTML. The DTD is also important when you want to validate your pages.\n",
    "    "
   ]
  },
  {
   "cell_type": "markdown",
   "metadata": {},
   "source": [
    "## HTML Validation"
   ]
  },
  {
   "cell_type": "markdown",
   "metadata": {},
   "source": [
    "If you insert a DTD in your pages, you can always check your HTML for errors by using W3C's free validator at <a href=\"http://validator.w3.org\" target=\"_blank\">validator.w3.org</a>.\n",
    "\n",
    "To test this out, make a page and upload it to the Internet. Now, go to the validator and type the address (the URL) of your page and validate it. If your HTML is correct you will get a congratulations message. Otherwise you will get an error report telling you exactly what and where you have done something wrong.\n",
    "\n",
    "The validator is not just helpful to locate an error. Some browsers try to compensate for lack of skills among web developers by trying to fix errors in the HTML and showing the page as they guess it should look. With such browsers, you might never see an error in your own browser. However, other browsers might guess differently or not show the page at all. The validator can help you find errors you did not even know existed.\n",
    "\n",
    "Always validate your pages to be sure they will always be shown correctly."
   ]
  },
  {
   "cell_type": "markdown",
   "metadata": {},
   "source": [
    "<table width=\"100%\" border=\"1\" cellpadding=\"2\" cellspacing=\"0\">\n",
    "<tr>\n",
    "<td width=\"90\" bgcolor=\"#0000FF\" style=\"vertical-align:top\"><img src=\"https://dl.dropboxusercontent.com/u/90219577/Hermon/CSE_Website/webdev/00/WebWiz.png\" style=\"border:2px solid #021a40;\"><center><b>\n",
    "<font color=\"#FFFFFF\">Web<br>Wizardry<br>Task</font></b></center></td>\n",
    "<td valign=\"top\">\n",
    "<center><h1><u>Validation</u></h1></center><br>\n",
    "<font size=\"+0\"><center><b>Update your website and run through the validation process.</b></center></font>\n",
    "</td></tr></table>"
   ]
  },
  {
   "cell_type": "markdown",
   "metadata": {},
   "source": [
    "<div align=\"right\">\n",
    "<a href=\"http://nbviewer.ipython.org/github/CSE-UHS/Web-Development/blob/master/Chapter00.ipynb\" align=\"right\"><h2>Table of Contents</h2></a>\n",
    "</div>"
   ]
  }
 ],
 "metadata": {
  "kernelspec": {
   "display_name": "Python 2",
   "language": "python",
   "name": "python2"
  },
  "language_info": {
   "codemirror_mode": {
    "name": "ipython",
    "version": 2
   },
   "file_extension": ".py",
   "mimetype": "text/x-python",
   "name": "python",
   "nbconvert_exporter": "python",
   "pygments_lexer": "ipython2",
   "version": "2.7.10"
  }
 },
 "nbformat": 4,
 "nbformat_minor": 0
}
