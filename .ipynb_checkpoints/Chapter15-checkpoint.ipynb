{
 "cells": [
  {
   "cell_type": "markdown",
   "metadata": {},
   "source": [
    "<div align=\"right\">\n",
    "<a href=\"http://nbviewer.ipython.org/github/CSE-UHS/Web-Development/blob/master/Chapter00.ipynb\" align=\"right\"><h2>Table of Contents</h2></a>\n",
    "</div>"
   ]
  },
  {
   "cell_type": "markdown",
   "metadata": {},
   "source": [
    "# Chapter 15: Intro to PHP"
   ]
  },
  {
   "cell_type": "markdown",
   "metadata": {},
   "source": [
    "<h3>What is PHP?</h3>\n",
    "\n",
    "PHP was originally an acronym for <b>Personal Home Pages</b>, but is now a recursive acronym for <b>Hypertext Preprocessor</b>.\n",
    "\n",
    "PHP was originally developed by the Danish Greenlander Rasmus Lerdorf, and was subsequently developed as open source. PHP is not a proper web standard - but an open-source technology. PHP is neither real programming language - but PHP lets you use so-called scripting in your HTML documents.\n",
    "\n",
    "To describe what a PHP page is, you could say that it is a file with the extension .php that contains a combination of HTML tags and scripts that run on a web server.\n",
    "\n",
    "How does PHP work?\n",
    "\n",
    "The best way to explain how PHP works is by comparing it with standard HTML. Imagine you type the address of an HTML document (e.g. http://www.mysite.com/page.htm) in the address line of the browser. This way you request an HTML page. The server simply sends an HTML file to the client. But if you instead type http://www.mysite.com/page.php - and thus request a PHP page, the server first reads the PHP file carefully to see if there are any tasks that need to be executed. Only when the server has done what it is supposed to do, the result is then sent to the client. It is important to understand that the client only sees the result of the server's work (an HTML file), not the actual instructions (PHP).\n",
    "\n",
    "<h3>This means a couple of things:</h3>\n",
    "\n",
    "1.) You won't be able to test your <b>.php</b> page simply by dropping it on the browser because PHP is actually run on the server. From now on you will have to FTP your <b>.php</b> pages to your server space to see if it is working as expected. \n",
    "\n",
    "2.) This means that if you click \"view source\" on a PHP page, you do not see the PHP codes - only basic HTML tags. Therefore, you cannot see how a PHP page is made by using \"view source\". You have to learn PHP in other ways, for example, by taking this course and of course always having the skills to read and understand the official...\n",
    "\n",
    "<center><h1><a href=\"http://php.net/manual/en/index.php\" target=\"_blank\">PHP Documentation</a>...BOOKMARK IT!</h1></center>"
   ]
  },
  {
   "cell_type": "markdown",
   "metadata": {},
   "source": [
    "## PHP Tags and Echo"
   ]
  },
  {
   "cell_type": "markdown",
   "metadata": {},
   "source": [
    "Start by making an ordinary HTML document like the following, but name the file <b>page.php</b> and upload it to your server. Notice, we have a normal HTML page and even some CSS for the <b>&lt;h1&gt;</b> element. The difference is there is a line of PHP. Let's examine how PHP is included in an HTML document.\n",
    "\n",
    "First, we need to tell the server when the PHP will start and end. In PHP you use the tags <b>&lt;?php</b> and <b>?&gt;</b> to mark the start and end for the PHP codes that the server must execute (on most servers it will be suficient to use just <b>&lt;?</b> as start tag, but <b>&lt;?php</b> is the most correct to use the first time PHP is used.)\n",
    "\n",
    "You might find PHP easy to learn because of your already strong grasp of Python. When we wanted to print something on the screen in Python we used <b>print</b>. In PHP we use <b>echo</b>. Since we want to print some HTML which is technically a string we include it in quotations.\n",
    "\n",
    "Finally we come to the future bane of your existence. The <b>SEMICOLON;</b>. Every command in PHP ends with a semicolon. If you forget it very bad things start to happen.\n",
    "\n",
    "\n",
    "<img src=\"https://dl.dropboxusercontent.com/u/90219577/Hermon/CSE_Website/webdev/15/hello1.png\">\n",
    "\n",
    "Navigate to your page and see how it looks. The above code looked like this on my page:\n",
    "\n",
    "\n",
    "<img src=\"https://dl.dropboxusercontent.com/u/90219577/Hermon/CSE_Website/webdev/15/hello2a.png\">\n",
    "\t\n",
    "Try to look at the code of that page by <b>viewing source</b>. The PHP codes are gone! As you may remember it is only the server that can see the PHP codes - the client (the browser) only sees the result!\n",
    "\n",
    "<u>Why didn't we just use regular HTML</u>???? DUH! Because we are trying to learn PHP!!! Imagine if the text was in a variable sent to this page by a form. We could \"echo\" the variable onto the page and it would always print whatever was entered in the form. So yes, if we were actually going to hard-code text into our HTML the PHP line would have been a waste of time."
   ]
  },
  {
   "cell_type": "markdown",
   "metadata": {},
   "source": [
    "## Date( )"
   ]
  },
  {
   "cell_type": "markdown",
   "metadata": {},
   "source": [
    "Let's make the server write something else more interesting like the current date and time:\n",
    "\n",
    "<img src=\"https://dl.dropboxusercontent.com/u/90219577/Hermon/CSE_Website/webdev/15/time1.png\">\n",
    "\n",
    "\t\n",
    "Upload the file and navigate to it in the browser. Here we are making the server write the date and time when the PHP page is displayed. Note that if you refresh the page in the browser, a new time is written. The server writes the current date and time each time the page is sent to a client.\n",
    "\n",
    "<img src=\"https://dl.dropboxusercontent.com/u/90219577/Hermon/CSE_Website/webdev/15/time2.png\">\n",
    "\n",
    "In our example, we used <b>date</b>, which is a function that returns the current date and time on the server.\n",
    "\n",
    "Let's try to extend the example by concatenating a string and a function. We do this with a \".\" (a period) in PHP.\n",
    "<img src=\"https://dl.dropboxusercontent.com/u/90219577/Hermon/CSE_Website/webdev/15/time3.png\">\n",
    "<img src=\"https://dl.dropboxusercontent.com/u/90219577/Hermon/CSE_Website/webdev/15/time4.png\">\n"
   ]
  },
  {
   "cell_type": "markdown",
   "metadata": {},
   "source": [
    "## Layer on layer with z-index (Layers)"
   ]
  },
  {
   "cell_type": "markdown",
   "metadata": {},
   "source": [
    "CSS operates in three dimensions - height, width and depth. We have seen the first two dimensions in previous lessons. In this lesson, we will learn how to let different elements become layers. In short, this means the order of which the elements overlap one another.\n",
    "\n",
    "For that purpose, you can assign each element a number (<b>z-index</b>). <b><u>The system is that an element with a higher number overlaps an element with a lower number</u></b>. Let us say we are playing poker and have a royal straight flush. Our hand can be presented in a way where each card has got a z-index:\n",
    "<img src=\"https://dl.dropboxusercontent.com/u/90219577/Hermon/CSE_Website/webdev/14/cards.gif\">\n",
    "\n",
    "\n",
    "The actual z-index numbers are not important only the chronological sequence of the numbers. So you could use 1-5 to overlap some elements but you could also use z-indices of 2,3,6,8,9. Just try to keep it all <b>straight</b>!...Get it, <b>STRAIGHT</b>!\n",
    "\n",
    "The method is relatively simple but the possibilities are several. You can place images on text or text above text etc. Layers can be used in many situations. For example, try to use z-index to create effects in headlines instead of creating these as graphics. For one thing, it is faster to load text and for another, it provides a potentially better ranking in search engines."
   ]
  },
  {
   "cell_type": "markdown",
   "metadata": {},
   "source": [
    "<table width=\"100%\" border=\"1\" cellpadding=\"2\" cellspacing=\"0\">\n",
    "<tr>\n",
    "<td width=\"90\" bgcolor=\"#0000FF\" style=\"vertical-align:top\"><img src=\"https://dl.dropboxusercontent.com/u/90219577/Hermon/CSE_Website/webdev/00/WebWiz.png\" style=\"border:2px solid #021a40;\"><center><b>\n",
    "<font color=\"#FFFFFF\">Web<br>Wizardry<br>Task</font></b></center></td>\n",
    "<td valign=\"top\">\n",
    "<center><a href=\"http://www.csszengarden.com/\" target=\"_blank\"><img src=\"https://dl.dropboxusercontent.com/u/90219577/Hermon/CSE_Website/webdev/14/zen.png\" style=\"border:2px solid #021a40;\"></a></center><br>\n",
    "<font size=\"+0\">&nbsp;&nbsp;&nbsp;&nbsp;&nbsp;There is no assigned task at this time for this course, however for those interested in a challenge or those thinking about a career in Web Development an excellent independent project to consider to further hone your CSS skills would be to try out the <a href=\"http://www.csszengarden.com/\" target=\"_blank\">CSS Zen Garden</a>, a website that was launched in May of 2003. The CSS Zen Garden is a World Wide Web development resource. The goal of the site is to showcase what is possible with CSS-based design. Style sheets contributed by graphic designers from around the world are used to change the visual presentation of a single HTML file, producing hundreds of different designs. Aside from reference to an external CSS file, the HTML markup itself never changes. All visual differences are the result of the CSS (and supporting imagery). You simply download the single HTML file from their website and then work on a CSS file that will style the page. For years I've thought about trying to see what I could design but have never had the time. Pure procrastination I guess! If any of you ever accomplish a CSS Zen Garden styling sheet please share your work with me so I can include it in this book for future students.</font>\n",
    "</td></tr></table>"
   ]
  },
  {
   "cell_type": "markdown",
   "metadata": {},
   "source": [
    "<div align=\"right\">\n",
    "<a href=\"http://nbviewer.ipython.org/github/CSE-UHS/Web-Development/blob/master/Chapter00.ipynb\" align=\"right\"><h2>Table of Contents</h2></a>\n",
    "</div>"
   ]
  }
 ],
 "metadata": {
  "kernelspec": {
   "display_name": "Python 2",
   "language": "python",
   "name": "python2"
  },
  "language_info": {
   "codemirror_mode": {
    "name": "ipython",
    "version": 2
   },
   "file_extension": ".py",
   "mimetype": "text/x-python",
   "name": "python",
   "nbconvert_exporter": "python",
   "pygments_lexer": "ipython2",
   "version": "2.7.10"
  }
 },
 "nbformat": 4,
 "nbformat_minor": 0
}
