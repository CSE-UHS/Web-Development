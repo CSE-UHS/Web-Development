{
 "cells": [
  {
   "cell_type": "markdown",
   "metadata": {},
   "source": [
    "<div align=\"right\">\n",
    "<a href=\"http://nbviewer.ipython.org/github/CSE-UHS/Web-Development/blob/master/Chapter00.ipynb\" align=\"right\"><h2>Table of Contents</h2></a>\n",
    "</div>"
   ]
  },
  {
   "cell_type": "markdown",
   "metadata": {},
   "source": [
    "# Chapter 3: Links"
   ]
  },
  {
   "cell_type": "markdown",
   "metadata": {},
   "source": [
    "## Linking to a Website"
   ]
  },
  {
   "cell_type": "markdown",
   "metadata": {},
   "source": [
    "In this lesson, you will learn how to create links. To make links, you use what you always use when coding HTML: an element. A simple element with one attribute and you will be able to link to anything and everything. Here is an example of what a link to EngineeringU.com would look like:<br>\n",
    "\n",
    "<center><img src=\"https://dl.dropboxusercontent.com/u/90219577/Hermon/CSE_Website/webdev/03/EU.png\"></center>\n",
    "\n",
    "\n",
    "The element <b>a</b> stands for \"anchor\". And the attribute <b>href</b> is short for \"hypertext reference\", which specifies where the link leads. This is typically an address on the internet or a file name. In the above example the attribute href has the value \"http://www.engineeringU.com\", which is the full address of EngineeringU.com and is called a <b>URL (Uniform Resource Locator)</b>. Note that <b>\"http://\"</b> must always be included in URLs. The sentence \"Visit EngineeringU.com\" is the text that is shown in the browser as the link. Remember to close the element with an <b>&lt;/a&gt;</b>. \n",
    "\n",
    "We also used the <b>target</b> attribute which tells the browser how to open the URL. <b>target=\"_blank\"</b> will open the URL in a new window or tab.\n",
    "\n",
    "Finally we used the <b>title</b> attribute which is used to type a short description of the link. If you - without clicking - place the cursor over the link, you will see the text \"Visit HTML.net and learn HTML\" appears.\n",
    "\n",
    "The title attribute is used to type a short description of the link. If you - without clicking - place the cursor over the link, you will see the text \"The greatest website on the internet\" appears."
   ]
  },
  {
   "cell_type": "markdown",
   "metadata": {},
   "source": [
    "## Linking Between Pages"
   ]
  },
  {
   "cell_type": "markdown",
   "metadata": {},
   "source": [
    "At this time duplicate your index.html file and rename it something like <b>Page2.html</b>. Change the code on Page2 by putting some statement like, \"This is Page 2 of my website\". Now back on your index file attempt to link to your Page2 file and on your Page2 file link back to your index file. If both of these files are saved in the same folder you can make a link from one page to the other by only typing the name of the file in the link. Under such circumstances a link from your index.html to Page2.html could look like this:\n",
    "\n",
    "<center><img src=\"https://dl.dropboxusercontent.com/u/90219577/Hermon/CSE_Website/webdev/03/page2.png\"></center>"
   ]
  },
  {
   "cell_type": "markdown",
   "metadata": {},
   "source": [
    "## Relative vs. Absolute URLs"
   ]
  },
  {
   "cell_type": "markdown",
   "metadata": {},
   "source": [
    "The URL we used above is called a <b>relative URL</b>. This means the URL is relative to the location of the file that you are linking from. If both files are in the same folder then you can simply use the filename for the URL as we did. Let's try something different. On your server put your Page2.html file in your <b>img</b> folder and now try your links. You will notice that they are now broken. Page2.html is now placed in a subfolder (named \"img\"), the relative link would have to change to enter into that subfolder.\n",
    "\n",
    "<center><img src=\"https://dl.dropboxusercontent.com/u/90219577/Hermon/CSE_Website/webdev/03/relativepage2.png\"></center>\n",
    "\n",
    "How would you fix the link on the Page2.html file to get back out of the subfolder to the index.html file? It would look like this.<br><br>\n",
    "\n",
    "<center><img src=\"https://dl.dropboxusercontent.com/u/90219577/Hermon/CSE_Website/webdev/03/relativeback.png\"></center>\n",
    "\n",
    "<b>\"../\"</b> points to the folder one level up from position of the file from which the link is made. Following the same system, you can also point two (or more) folders up by writing \"../../\".\n",
    "\n",
    "An <b>absolute URL</b> is one that gives the entire URL address from the server. For each of our files they would look like the following:<br><br>\n",
    "\n",
    "<center><img src=\"https://dl.dropboxusercontent.com/u/90219577/Hermon/CSE_Website/webdev/03/absolute.png\"></center>"
   ]
  },
  {
   "cell_type": "markdown",
   "metadata": {},
   "source": [
    "## Title Attribute"
   ]
  },
  {
   "cell_type": "markdown",
   "metadata": {},
   "source": [
    "cool"
   ]
  },
  {
   "cell_type": "markdown",
   "metadata": {},
   "source": [
    "<table width=\"100%\" border=\"1\" cellpadding=\"2\" cellspacing=\"0\">\n",
    "<tr>\n",
    "<td width=\"90\" bgcolor=\"#0000FF\" style=\"vertical-align:top\"><img src=\"https://dl.dropboxusercontent.com/u/90219577/Hermon/CSE_Website/webdev/00/WebWiz.png\" style=\"border:2px solid #021a40;\"><center><b>\n",
    "<font color=\"#FFFFFF\">Web<br>Wizardry<br>Task</b></center></font></td>\n",
    "<td valign=\"top\"><font size=\"+2\"><center><b>Update your website using things that you have learned from this chapter and then show it to your instructor.</b></font></td></tr></table>"
   ]
  },
  {
   "cell_type": "markdown",
   "metadata": {},
   "source": [
    "<div align=\"right\">\n",
    "<a href=\"http://nbviewer.ipython.org/github/CSE-UHS/Web-Development/blob/master/Chapter00.ipynb\" align=\"right\"><h2>Table of Contents</h2></a>\n",
    "</div>"
   ]
  }
 ],
 "metadata": {
  "kernelspec": {
   "display_name": "Python 2",
   "language": "python",
   "name": "python2"
  },
  "language_info": {
   "codemirror_mode": {
    "name": "ipython",
    "version": 2
   },
   "file_extension": ".py",
   "mimetype": "text/x-python",
   "name": "python",
   "nbconvert_exporter": "python",
   "pygments_lexer": "ipython2",
   "version": "2.7.10"
  }
 },
 "nbformat": 4,
 "nbformat_minor": 0
}
