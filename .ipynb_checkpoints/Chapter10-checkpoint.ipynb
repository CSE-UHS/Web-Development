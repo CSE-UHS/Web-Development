{
 "cells": [
  {
   "cell_type": "markdown",
   "metadata": {},
   "source": [
    "<div align=\"right\">\n",
    "<a href=\"http://nbviewer.ipython.org/github/CSE-UHS/Web-Development/blob/master/Chapter00.ipynb\" align=\"right\"><h2>Table of Contents</h2></a>\n",
    "</div>"
   ]
  },
  {
   "cell_type": "markdown",
   "metadata": {},
   "source": [
    "# Chapter 10: Text"
   ]
  },
  {
   "cell_type": "markdown",
   "metadata": {},
   "source": [
    "Formatting and adding style to text is a key issue for any web designer. In this chapter you will be introduced to the amazing opportunities CSS gives you to add layout to text. The following properties will be described:\n",
    "\n",
    "<b>text-indent<br>\n",
    "text-align<br>\n",
    "text-decoration<br>\n",
    "letter-spacing<br>\n",
    "text-transform\n",
    "</b>"
   ]
  },
  {
   "cell_type": "markdown",
   "metadata": {},
   "source": [
    "## Text indention [text-indent]"
   ]
  },
  {
   "cell_type": "markdown",
   "metadata": {},
   "source": [
    "The property <b>text-indent</b> allows you to add an elegant touch to text paragraphs by applying an indent to the first line of the paragraph. In the example below a 30px indent is applied to all text paragraphs marked with <b>&lt;p&gt;</b>:\n",
    "\t\n",
    "<h3>p {text-indent: 30px;}</h3>\n",
    "\t"
   ]
  },
  {
   "cell_type": "markdown",
   "metadata": {},
   "source": [
    "## Text alignment [text-align]"
   ]
  },
  {
   "cell_type": "markdown",
   "metadata": {},
   "source": [
    "The property <b>font-style</b> defines the chosen font either in normal, italic or oblique. In the example below, all headlines marked with <b>&lt;h2&gt;</b> will be shown in italics.\n",
    "\n",
    "\t\n",
    "<h3>h1 {font-family: arial, verdana, sans-serif;}<br>\n",
    "h2 {font-family: \"Times New Roman\", serif; font-style: italic;}</h3>\n"
   ]
  },
  {
   "cell_type": "markdown",
   "metadata": {},
   "source": [
    "## Text decoration [text-decoration]"
   ]
  },
  {
   "cell_type": "markdown",
   "metadata": {},
   "source": [
    "The property <b>font-variant</b> is used to choose between <b>normal</b> or <b>small-caps</b> variants of a font. A <b>small-caps</b> font is a font that uses smaller sized capitalized letters (upper case) instead of lower case letters. Confused? Take a look at these examples:\n",
    "<img src=\"https://dl.dropboxusercontent.com/u/90219577/Hermon/CSE_Website/webdev/09/fontvar.gif\">\n",
    "\n",
    "If <b>font-variant</b> is set to small-caps and no small-caps font is available, the browser will most likely show the text in uppercase instead.\n",
    "\n",
    "<h3>h1 {font-variant: small-caps;}<br>\n",
    "h2 {font-variant: normal;}</h3>\n"
   ]
  },
  {
   "cell_type": "markdown",
   "metadata": {},
   "source": [
    "## Letter space [letter-spacing]"
   ]
  },
  {
   "cell_type": "markdown",
   "metadata": {},
   "source": [
    "The property <b>font-weight</b> describes how bold or \"heavy\" a font should be presented. A font can either be normal or bold. Some browsers even support the use of numbers between 100-900 (in hundreds) to describe the weight of a font.\n",
    "\n",
    "\t\n",
    "<h3>p {font-family: arial, verdana, sans-serif;}<br>\n",
    "td {font-family: arial, verdana, sans-serif; font-weight: bold;}</h3>"
   ]
  },
  {
   "cell_type": "markdown",
   "metadata": {},
   "source": [
    "## Text transformation [text-transform]"
   ]
  },
  {
   "cell_type": "markdown",
   "metadata": {},
   "source": [
    "The size of a font is set by the property <b>font-size</b>.\n",
    "\n",
    "There are many different units (e.g. pixels and percentages) to choose from to describe font sizes. We will focus on the most common and appropriate units. Examples include:\n",
    "\n",
    "\t\n",
    "<h3>h1 {font-size: 30px;}<br>\n",
    "h2 {font-size: 12pt;}<br>\n",
    "h3 {font-size: 120%;}<br>\n",
    "p {font-size: 1em;}\n",
    "</h3>\t\n",
    "\t\n",
    "There is one key difference between the four units above. The units <b>'px'</b> and <b>'pt'</b> make the font size absolute, while <b>'%'</b> and <b>'em'</b> allow the user to adjust the font size as he/she see fit. Many users are disabled, elderly or simply suffer from poor vision or a monitor of bad quality. To make your website accessible for everybody, you should use adjustable units such as <b>'%'</b> or <b>'em'</b>.\n",
    "\n",
    "You might be curious what <b>'em'</b> stands for. An <b>'em'</b> was originally equivalent to the width of a letter m. <b>'Ems'</b> allow you to change the size of text relative to the size of the text in the parent element. For instance, if the font-size of the document is 12pt, 1em is equal to 12pt. Ems are scalable in nature, so 2em would equal 24pt, .5em would equal 6pt, etc. Ems are becoming increasingly popular in web documents due to scalability and their mobile-device-friendly nature."
   ]
  },
  {
   "cell_type": "markdown",
   "metadata": {},
   "source": [
    "## Compiling [font]"
   ]
  },
  {
   "cell_type": "markdown",
   "metadata": {},
   "source": [
    "Using the font short hand property it is possible to cover all the different font properties in one single property.\n",
    "\n",
    "For example, imagine these four lines of code used to describe font-properties for <b>&lt;p&gt;</b>:\n",
    "\n",
    "\t\n",
    "<h3>p {<br>\n",
    "        font-style: italic;<br>\n",
    "        font-weight: bold;<br>\n",
    "        font-size: 30px;<br>\n",
    "        font-family: arial, sans-serif;<br>\n",
    "    }</h3>\n",
    "\t\n",
    "\t\n",
    "Using the short hand property, the code can be simplified:\n",
    "<h3>p {font: italic bold 30px arial, sans-serif;}</h3>\n",
    "\t\n",
    "\t\n",
    "<br>The order of values for <b>font</b> is:\n",
    "\n",
    "<center><b>font-style | font-variant | font-weight | font-size | font-family</b></center>\n"
   ]
  },
  {
   "cell_type": "markdown",
   "metadata": {},
   "source": [
    "<table width=\"100%\" border=\"1\" cellpadding=\"2\" cellspacing=\"0\">\n",
    "<tr>\n",
    "<td width=\"90\" bgcolor=\"#0000FF\" style=\"vertical-align:top\"><img src=\"https://dl.dropboxusercontent.com/u/90219577/Hermon/CSE_Website/webdev/00/WebWiz.png\" style=\"border:2px solid #021a40;\"><center><b>\n",
    "<font color=\"#FFFFFF\">Web<br>Wizardry<br>Task</font></b></center></td>\n",
    "<td valign=\"top\">\n",
    "<center><h1><u>Self-Guided Testing</u></h1></center><br>\n",
    "<font size=\"+0\"><center><b>There is no assigned task this time but make sure you are testing what you are learning on your website.</b></center></font>\n",
    "</td></tr></table>"
   ]
  },
  {
   "cell_type": "markdown",
   "metadata": {},
   "source": [
    "<div align=\"right\">\n",
    "<a href=\"http://nbviewer.ipython.org/github/CSE-UHS/Web-Development/blob/master/Chapter00.ipynb\" align=\"right\"><h2>Table of Contents</h2></a>\n",
    "</div>"
   ]
  }
 ],
 "metadata": {
  "kernelspec": {
   "display_name": "Python 2",
   "language": "python",
   "name": "python2"
  },
  "language_info": {
   "codemirror_mode": {
    "name": "ipython",
    "version": 2
   },
   "file_extension": ".py",
   "mimetype": "text/x-python",
   "name": "python",
   "nbconvert_exporter": "python",
   "pygments_lexer": "ipython2",
   "version": "2.7.10"
  }
 },
 "nbformat": 4,
 "nbformat_minor": 0
}
