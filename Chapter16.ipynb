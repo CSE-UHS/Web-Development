{
 "cells": [
  {
   "cell_type": "markdown",
   "metadata": {
    "deletable": true,
    "editable": true
   },
   "source": [
    "<div align=\"right\">\n",
    "<a href=\"http://nbviewer.ipython.org/github/CSP-UHS/Web-Development/blob/master/Chapter00.ipynb\" align=\"right\"><h2>Table of Contents</h2></a>\n",
    "</div>"
   ]
  },
  {
   "cell_type": "markdown",
   "metadata": {
    "deletable": true,
    "editable": true
   },
   "source": [
    "# Chapter 16: Looping"
   ]
  },
  {
   "cell_type": "markdown",
   "metadata": {
    "deletable": true,
    "editable": true
   },
   "source": [
    "Looping in PHP is VERY similar to Python. In fact similar enough to probably help us mess things up a lot! "
   ]
  },
  {
   "cell_type": "markdown",
   "metadata": {
    "deletable": true,
    "editable": true
   },
   "source": [
    "## while( ) loops"
   ]
  },
  {
   "cell_type": "markdown",
   "metadata": {
    "deletable": true,
    "editable": true
   },
   "source": [
    "The syntax for a <b>while</b> loop is:\n",
    "\n",
    "\n",
    "<center><h3>while (condition) {Statement}</h3></center>\n",
    "\t\n",
    "\t\n",
    "The syntax can almost be directly translated into English: do something while a condition is met. The <b>condition</b> is in parentheses and does not end with a semicolon. The Statement(s) are in curly braces and will end with semicolons. This is different from Python which was all determined by indentation. Try the following code and let's see if you can see differences between PHP and Python.\n",
    "\n",
    "<img src=\"http://www.hermonswebsites.com/PyNotebooks/HTML_CSS_PHP/16/agario.png\">\n",
    "\n",
    "In our example, a variable named <b>\"&#36;x\"</b> is used. As you can see, <b><u>variables in PHP always start with a \"&#36;\" character.</u></b> It's easy to forget this at first, but it's absolutely necessary to remember or else the script doesn't work.\n",
    "\n",
    "First the variable <b>\"&#36;x\"</b> was set to be equal to 1. Then the loop asks the server to repeat the text while <b>\"&#36;x\"</b> is less or equal to 50. In each loop, the variable <b>\"&#36;x\"</b> will be increased by 1 the same way we did it in Python."
   ]
  },
  {
   "cell_type": "markdown",
   "metadata": {
    "deletable": true,
    "editable": true
   },
   "source": [
    "## for( ) loops"
   ]
  },
  {
   "cell_type": "markdown",
   "metadata": {
    "deletable": true,
    "editable": true
   },
   "source": [
    "Another type of loop is the <b>for( ) loop</b>. The syntax is shown as follows:\n",
    "\n",
    "\t\n",
    "<center><h3>for (Initialization; Condition; Step) {Statement}</h3></center>\n",
    "\t\n",
    "\t\n",
    "The statement is repeated as long as '<b>Initialization</b>' + '<b>Step</b>' meets the '<b>Condition</b>'. Hopefully that will make sens from the following example:\n",
    "\n",
    "<img src=\"http://www.hermonswebsites.com/PyNotebooks/HTML_CSS_PHP/16/fives.png\">\n",
    "\n",
    "In the example above, <b>\"&#36;x\"</b> is growing with the value 5 in each loop. The loop will continue as long as <b>\"&#36;x\"</b> is below or equals 50. Also note how the value <b>\"&#36;x\"</b> is used as part of the statement.\n"
   ]
  },
  {
   "cell_type": "markdown",
   "metadata": {
    "deletable": true,
    "editable": true
   },
   "source": [
    "## loops within loops"
   ]
  },
  {
   "cell_type": "markdown",
   "metadata": {
    "deletable": true,
    "editable": true
   },
   "source": [
    "In principle, there are no limitations on how many loops can be used. For instance, you can easily put loops inside loops and thereby create many repeats. Remember the box function in Python? Try the following loop and change the height and width conditions.\n",
    "\n",
    "<img src=\"http://www.hermonswebsites.com/PyNotebooks/HTML_CSS_PHP/16/loopy.png\">"
   ]
  },
  {
   "cell_type": "markdown",
   "metadata": {
    "deletable": true,
    "editable": true
   },
   "source": [
    "<table style=\"background-color: #FFFFFF; border: 1px solid #000000; width: 100%; padding: 2px;\">\n",
    "<tr style=\"background-color: #0000FF;\">\n",
    "<td width=\"90\" style=\"vertical-align: top; border: 1px solid #000000;\"><img src=\"http://www.hermonswebsites.com/PyNotebooks/HTML_CSS_PHP/00/WebWiz.png\" style=\"border: 2px solid #021a40;\">\n",
    "</td><td style=\"border: 1px solid #000000; color: #FFFFFF;\"><h2><center><b>Web Wizardry Task</b></center></h2></td></tr>\n",
    "<tr>\n",
    "<td valign=\"top\" colspan=\"2\" style=\"text-align: left;\"><font size=\"+1\"><center><h2><u>Looping Headers</u></h2></center>\n",
    "<br>\n",
    "Use a simple for( ) loop to generate the following six headers. Use CSS to give them their colors.\n",
    "\n",
    "<h3><u>Webpage Output</u>:</h3>\n",
    "<img src=\"http://www.hermonswebsites.com/PyNotebooks/HTML_CSS_PHP/16/headings.png\"></font></td></tr></table>"
   ]
  },
  {
   "cell_type": "markdown",
   "metadata": {
    "deletable": true,
    "editable": true
   },
   "source": [
    "<table  style=\"background-color: #FFFFFF; width: 100%; padding: 2px;\">\n",
    "<tr style=\"background-color: #FFFFFF;\">\n",
    "<td style=\"border: 1px solid white;\" width=\"100px\">\n",
    "<div>\n",
    "<a href=\"http://nbviewer.ipython.org/github/CSP-UHS/Web-Development/blob/master/Chapter15.ipynb\"><img src=\"http://www.hermonswebsites.com/PyNotebooks/HTML_CSS_PHP/leftA.png\" height=\"50px\" width=\"50px\" align=\"left\"></a>\n",
    "</div>\n",
    "</td>\n",
    "<td style=\"border: 1px solid white;\">\n",
    "<div align=\"center\">\n",
    "<a href=\"http://nbviewer.ipython.org/github/CSP-UHS/Web-Development/blob/master/Chapter00.ipynb\"><h2>Table of Contents</h2></a>\n",
    "</div>\n",
    "</td>\n",
    "<td style=\"border: 1px solid white;\" width=\"100px\">\n",
    "<div>\n",
    "<a href=\"http://nbviewer.ipython.org/github/CSP-UHS/Web-Development/blob/master/Chapter17.ipynb\"><img src=\"http://www.hermonswebsites.com/PyNotebooks/HTML_CSS_PHP/rightA.png\"  height=\"50px\" width=\"50px\"  align=\"right\"></a>\n",
    "</div>\n",
    "</td>\n",
    "</tr></table>"
   ]
  }
 ],
 "metadata": {
  "kernelspec": {
   "display_name": "Python 3",
   "language": "python",
   "name": "python3"
  },
  "language_info": {
   "codemirror_mode": {
    "name": "ipython",
    "version": 3
   },
   "file_extension": ".py",
   "mimetype": "text/x-python",
   "name": "python",
   "nbconvert_exporter": "python",
   "pygments_lexer": "ipython3",
   "version": "3.5.2"
  }
 },
 "nbformat": 4,
 "nbformat_minor": 0
}
