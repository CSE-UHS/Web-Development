{
 "cells": [
  {
   "cell_type": "markdown",
   "metadata": {},
   "source": [
    "<div align=\"right\">\n",
    "<a href=\"http://nbviewer.ipython.org/github/CSE-UHS/Web-Development/blob/master/Chapter00.ipynb\" align=\"right\"><h2>Table of Contents</h2></a>\n",
    "</div>"
   ]
  },
  {
   "cell_type": "markdown",
   "metadata": {},
   "source": [
    "# Chapter 23: Retrieving Data"
   ]
  },
  {
   "cell_type": "markdown",
   "metadata": {},
   "source": [
    "Now it's time to retrieve data from our database to our PHP pages.\n",
    "\n",
    "This is really one of the most important chapters. Once you have read and understood this chapter, you will realize why database-driven web solutions are so powerful, and your views on web development will be expanded dramatically."
   ]
  },
  {
   "cell_type": "markdown",
   "metadata": {},
   "source": [
    "## SQL Queries"
   ]
  },
  {
   "cell_type": "markdown",
   "metadata": {},
   "source": [
    "To retrieve data from a database, you use queries. An example of a query could be: \"get all data from the table 'people' sorted alphabetically\" or \"get names from the table 'people'\".\n",
    "\n",
    "Again, the language Structured Query Language (SQL) is used to communicate with the database. Try looking at this simple example:\n",
    "\n",
    "<img src=\"https://dl.dropboxusercontent.com/u/90219577/Hermon/CSE_Website/webdev/22/serverconnect.png\">"
   ]
  },
  {
   "cell_type": "markdown",
   "metadata": {},
   "source": [
    "<table width=\"100%\" border=\"1\" cellpadding=\"2\" cellspacing=\"0\">\n",
    "<tr>\n",
    "<td width=\"90\" bgcolor=\"#0000FF\" style=\"vertical-align:top\"><img src=\"https://dl.dropboxusercontent.com/u/90219577/Hermon/CSE_Website/webdev/00/WebWiz.png\" style=\"border:2px solid #021a40;\"><center><b>\n",
    "<font color=\"#FFFFFF\">Web<br>Wizardry<br>Task</font></b></center></td>\n",
    "<td valign=\"top\">\n",
    "<center><h1>Voldemort's Rolodex Part 3</h1></center><br>\n",
    "\n",
    "<font size=\"+0\">&nbsp;&nbsp;&nbsp;&nbsp;&nbsp;&nbsp;&nbsp;Build an HTML form for Voldemort that will allow him to add to his contact list. The data entered into the form should be passed to the add.php file where it will be entered into the database. You do not have to demonstrate to your instructor until the end of the project build. </font>\n",
    "\n",
    "\n",
    "</td></tr></table>"
   ]
  },
  {
   "cell_type": "markdown",
   "metadata": {},
   "source": [
    "<table width=\"100%\" cellpadding=\"2\" cellspacing=\"2\">\n",
    "<tr>\n",
    "<td style=\"border: 1px solid white;\" width=\"100px\">\n",
    "<div>\n",
    "<a href=\"http://nbviewer.ipython.org/github/CSE-UHS/Web-Development/blob/master/Chapter22.ipynb\"><img src=\"https://dl.dropboxusercontent.com/u/90219577/Hermon/CSE_Website/webdev/leftA.png\" height=\"50px\" width=\"50px\" align=\"left\"></a>\n",
    "</div>\n",
    "</td>\n",
    "<td style=\"border: 1px solid white;\">\n",
    "<div align=\"center\">\n",
    "<a href=\"http://nbviewer.ipython.org/github/CSE-UHS/Web-Development/blob/master/Chapter00.ipynb\"><h2>Table of Contents</h2></a>\n",
    "</div>\n",
    "</td>\n",
    "<td style=\"border: 1px solid white;\" width=\"100px\">\n",
    "<div>\n",
    "<a href=\"http://nbviewer.ipython.org/github/CSE-UHS/Web-Development/blob/master/Chapter24.ipynb\"><img src=\"https://dl.dropboxusercontent.com/u/90219577/Hermon/CSE_Website/webdev/rightA.png\"  height=\"50px\" width=\"50px\"  align=\"right\"></a>\n",
    "</div>\n",
    "</td>\n",
    "</tr></table>"
   ]
  }
 ],
 "metadata": {
  "kernelspec": {
   "display_name": "Python 2",
   "language": "python",
   "name": "python2"
  },
  "language_info": {
   "codemirror_mode": {
    "name": "ipython",
    "version": 2
   },
   "file_extension": ".py",
   "mimetype": "text/x-python",
   "name": "python",
   "nbconvert_exporter": "python",
   "pygments_lexer": "ipython2",
   "version": "2.7.10"
  }
 },
 "nbformat": 4,
 "nbformat_minor": 0
}
