{
 "cells": [
  {
   "cell_type": "markdown",
   "metadata": {
    "deletable": true,
    "editable": true
   },
   "source": [
    "<div align=\"right\">\n",
    "<a href=\"http://nbviewer.ipython.org/github/CSP-UHS/Web-Development/blob/master/Chapter00.ipynb\" align=\"right\"><h2>Table of Contents</h2></a>\n",
    "</div>"
   ]
  },
  {
   "cell_type": "markdown",
   "metadata": {
    "deletable": true,
    "editable": true
   },
   "source": [
    "# Chapter 23: Retrieving Data"
   ]
  },
  {
   "cell_type": "markdown",
   "metadata": {
    "deletable": true,
    "editable": true
   },
   "source": [
    "Now it's time to retrieve data from our database to our PHP pages.\n",
    "\n",
    "This is really one of the most important chapters. Once you have read and understood this chapter, you will realize why database-driven web solutions are so powerful, and your views on web development will be expanded dramatically."
   ]
  },
  {
   "cell_type": "markdown",
   "metadata": {
    "deletable": true,
    "editable": true
   },
   "source": [
    "## SQL Queries"
   ]
  },
  {
   "cell_type": "markdown",
   "metadata": {
    "deletable": true,
    "editable": true
   },
   "source": [
    "<h3>Example 1: Retrieving Data</h3>\n",
    "\n",
    "To retrieve data from a database, you use queries. An example of a query could be: \"get all data from the table 'people' sorted alphabetically\" or \"get names from the table 'people'\".\n",
    "\n",
    "Again, the language Structured Query Language (SQL) is used to communicate with the database. Let's look at each line of the code below which shows how data in the table \"people\" is retrieved with an SQL query.\n",
    "\n",
    "We first write the query as a <b>SELECT</b> statement. The <b>'*'</b> is used to select all of the table.\n",
    "\n",
    "We execute the query which returns a result in the form of a series of records which we stored in <b>&#36;result</b>. These records are stored in a so-called recordset. A recordset can be described as a kind of table in the server's memory, containing rows of data (records), and each record is subdivided into individual fields (or columns).\n",
    "\n",
    "A recordset can be compared to a table where each record could be compared to a row in the table. We then ran through the recordset with a loop and the function <b>mysqli_fetch_array</b>, which returns each row as an array. We access each element of the array by using the column headings. In this loop we concatenated strings and variables with dots <b>(.)</b>\n",
    "\n",
    "Proper protocol is to start your file by accessing the database, retrieving your data and then closing the connection before you start your HTML page. Then you can use your PHP loop within your HTML when you want to print the data.\n",
    "\n",
    "<img src=\"http://www.hermonswebsites.com/PyNotebooks/HTML_CSS_PHP/23/retrieve1.png\">"
   ]
  },
  {
   "cell_type": "markdown",
   "metadata": {
    "deletable": true,
    "editable": true
   },
   "source": [
    "<h3>Example 2: Sort the data alphabetically, chronologically or numerically</h3>\n",
    "\n",
    "Often it can be helpful if a list or table of data is presented alphabetically, chronologically or numerically. Such sorting is very easy to do with SQL, where the syntax <b>Order By ColumnName</b> is used to sort according to the column contents.\n",
    "\n",
    "The records can, for example, be sorted alphabetically by the first name of the people this way:\n",
    "\n",
    "\n",
    "<b>&#36;query = \"SELECT * FROM people ORDER BY FirstName\"</b>\n",
    "\t\n",
    "\t\n",
    "Or chronologically by date of birth like this:\n",
    "\n",
    "\n",
    "<b>&#36;query = \"SELECT * FROM people ORDER BY BirthDate\"</b>\n",
    "\t\n",
    "\t\n",
    "The sorting can be charged from ascending to descending by adding DESC:\n",
    "\n",
    "\n",
    "<b>&#36;query = \"SELECT * FROM people ORDER BY BirthDate DESC\"</b>"
   ]
  },
  {
   "cell_type": "markdown",
   "metadata": {
    "deletable": true,
    "editable": true
   },
   "source": [
    "<h3>Example 3: Retrieve selected data</h3>\n",
    "\n",
    "Until now, our SQL statement retrieves all rows from the table. But often you need to set criteria in the SQL query for the data to be retrieved, for instance, if we only want the rows for those who have a particular phone number or a certain last name.\n",
    "\n",
    "Say, we only want to retrieve people from the database who have the last name \"Dumbledore\". That could be done like this:\n",
    "\n",
    "\n",
    "<b>&#36;query = \"SELECT * FROM people WHERE LastName = 'Dumbledore'\"</b>\n",
    "\t\n",
    "\t\n",
    "There are six relational operators in SQL:\n",
    "\n",
    "= Equals<br>\n",
    "&lt; Less than<br>\n",
    "&gt; Greater than<br>\n",
    "&lt;= Less than or equal to<br>\n",
    "&gt;= Greater than or equal to<br>\n",
    "!= Not equal to<br><br>\n",
    "In addition, there are some logical operators:\n",
    "\n",
    "AND<br>\n",
    "OR<br>\n",
    "NOT"
   ]
  },
  {
   "cell_type": "markdown",
   "metadata": {
    "deletable": true,
    "editable": true
   },
   "source": [
    "<table style=\"background-color: #FFFFFF; border: 1px solid #000000; width: 100%; padding: 2px;\">\n",
    "<tr style=\"background-color: #0000FF;\">\n",
    "<td width=\"90\" style=\"vertical-align: top; border: 1px solid #000000;\"><img src=\"http://www.hermonswebsites.com/PyNotebooks/HTML_CSS_PHP/00/WebWiz.png\" style=\"border: 2px solid #021a40;\">\n",
    "</td><td style=\"border: 1px solid #000000; color: #FFFFFF;\"><h2><center><b>Web Wizardry Task</b></center></h2></td></tr>\n",
    "<tr>\n",
    "<td valign=\"top\" colspan=\"2\" style=\"text-align: left;\"><font size=\"+1\"><center><h2><u>Voldemort's Rolodex Part 3</u></h2></center>\n",
    "<br>\n",
    "&nbsp;&nbsp;&nbsp;&nbsp;&nbsp;&nbsp;&nbsp;In the next chapter we will be learning how to <b>UPDATE</b> a record in the database. To do this we need our form to provide a dropdown of wizards to choose from. This can be done using what we learned in this chapter. On the same page as the form you created in the last actvity create an update form which will eventually pass data to a file called <b>update.php</b>. Let the user select from an alphabetized by last name dropdown list of wizards. The data that should be passed to the update form however, should be the <b>id</b> of the wizard. Our final chapter will show you how to <b>DELETE</b> data from our database. So, once your update form is created you could duplicate it to make a delete form that sends the data to a file called <b>delete.php</b></font></td></tr></table>"
   ]
  },
  {
   "cell_type": "markdown",
   "metadata": {
    "deletable": true,
    "editable": true
   },
   "source": [
    "<table  style=\"background-color: #FFFFFF; width: 100%; padding: 2px;\">\n",
    "<tr style=\"background-color: #FFFFFF;\">\n",
    "<td style=\"border: 1px solid white;\" width=\"100px\">\n",
    "<div>\n",
    "<a href=\"http://nbviewer.ipython.org/github/CSP-UHS/Web-Development/blob/master/Chapter22.ipynb\"><img src=\"http://www.hermonswebsites.com/PyNotebooks/HTML_CSS_PHP/leftA.png\" height=\"50px\" width=\"50px\" align=\"left\"></a>\n",
    "</div>\n",
    "</td>\n",
    "<td style=\"border: 1px solid white;\">\n",
    "<div align=\"center\">\n",
    "<a href=\"http://nbviewer.ipython.org/github/CSP-UHS/Web-Development/blob/master/Chapter00.ipynb\"><h2>Table of Contents</h2></a>\n",
    "</div>\n",
    "</td>\n",
    "<td style=\"border: 1px solid white;\" width=\"100px\">\n",
    "<div>\n",
    "<a href=\"http://nbviewer.ipython.org/github/CSP-UHS/Web-Development/blob/master/Chapter24.ipynb\"><img src=\"http://www.hermonswebsites.com/PyNotebooks/HTML_CSS_PHP/rightA.png\"  height=\"50px\" width=\"50px\"  align=\"right\"></a>\n",
    "</div>\n",
    "</td>\n",
    "</tr></table>"
   ]
  }
 ],
 "metadata": {
  "kernelspec": {
   "display_name": "Python 3",
   "language": "python",
   "name": "python3"
  },
  "language_info": {
   "codemirror_mode": {
    "name": "ipython",
    "version": 3
   },
   "file_extension": ".py",
   "mimetype": "text/x-python",
   "name": "python",
   "nbconvert_exporter": "python",
   "pygments_lexer": "ipython3",
   "version": "3.5.2"
  }
 },
 "nbformat": 4,
 "nbformat_minor": 0
}
