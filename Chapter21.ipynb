{
 "cells": [
  {
   "cell_type": "markdown",
   "metadata": {
    "deletable": true,
    "editable": true
   },
   "source": [
    "<div align=\"right\">\n",
    "<a href=\"http://nbviewer.ipython.org/github/CSP-UHS/Web-Development/blob/master/Chapter00.ipynb\" align=\"right\"><h2>Table of Contents</h2></a>\n",
    "</div>"
   ]
  },
  {
   "cell_type": "markdown",
   "metadata": {
    "deletable": true,
    "editable": true
   },
   "source": [
    "# Chapter 21: phpMyAdmin"
   ]
  },
  {
   "cell_type": "markdown",
   "metadata": {
    "deletable": true,
    "editable": true
   },
   "source": [
    "In the last chapter we learned how to collect data from a user with HTML forms. Perhaps we want to store that data somewhere to be used again in the future on our website. We can store data in databases. A database is a collection of information / data that is organized so that it can easily be retrieved, administrated and updated. Databases thereby enable the opportunity to create dynamic websites with large amounts of information. \n",
    "\n",
    "A database usually consists of one or more tables. If you are used to working with spreadsheets, or maybe have used databases before, tables will look familiar to you with columns and rows.\n",
    "\n",
    "There are many different types of databases. In this course, we will use the <b>MySQL</b> database. <b>MySQL</b> is the natural place to start when you want to use databases in PHP. <b>MySQL</b> is an open source relational database management system that runs as a server providing multi-user access to a number of databases. It is named after co-founder Michael Widenius' daughter, My. The SQL phrase stands for <b>Structured Query Language</b>.\n",
    "\n",
    "<h4><font color=\"blue\">Over the next five chapters you will build a rolodex for \"He who should not be named\" and a user interface to add, retrieve, update and delete data from the database. If you cannot accomplish this task you will be sent to Azkaban and suffer the kiss of a dementor!</font></h4>"
   ]
  },
  {
   "cell_type": "markdown",
   "metadata": {
    "deletable": true,
    "editable": true
   },
   "source": [
    "## phpMyAdmin"
   ]
  },
  {
   "cell_type": "markdown",
   "metadata": {
    "deletable": true,
    "editable": true
   },
   "source": [
    "Although it is fairly easy and useful to be able to create databases and tables directly in PHP, it will be easier to use <b>phpMyAdmin</b>, which is a MySQL administration tool standard on most web hosts.\n",
    "\n",
    "You can start by logging onto phpMyAdmin at <a href=\"http://csp.urbandaleschools.com/phpmyadmin/ \n",
    "\" target=\"_blank\">http://csp.urbandaleschools.com/phpmyadmin/ \n",
    "</a> using your same username and password that you used with your FTP client.\n",
    "\n",
    "<img src=\"http://www.hermonswebsites.com/PyNotebooks/HTML_CSS_PHP/21/myphpadmin.png\">\n",
    "\n",
    "When you are logged in, you should see one database on the left side with your username:\n",
    "\n",
    "<img src=\"http://www.hermonswebsites.com/PyNotebooks/HTML_CSS_PHP/21/clickdatabase.png\">\n",
    "\n",
    "Normally, you can create multiple databases, but since one database can hold hundreds of tables you really don't need much more than this one database.  \n",
    "\n",
    "To create a table, click on your database. There will be a box titled \"Create table\", where you type the name of the table and the number of columns and press the button \"Go\". For our example we will call our table <b>people</b> and we will use 5 columns.\n",
    "\n",
    "<img src=\"http://www.hermonswebsites.com/PyNotebooks/HTML_CSS_PHP/21/tablecreate.png\">\n",
    "\n",
    "When constructing a table you need to determine data types for each column. Below are what each data type means.\n",
    "\n",
    "<b>INT</b> - For numbers without decimals<br>\n",
    "<b>DECIMAL</b> - For numbers with decimals<br>\n",
    "<b>CHAR</b> - Short text up to 255 characters<br>\n",
    "<b>TEXT</b> - For plain text up to 65,535 characters<br>\n",
    "<b>LONGTEXT</b> - For long passages of text up to 4,294,967,295 characters<br>\n",
    "<b>Date</b> - For dates in the format YYYY-MM-DD<br>\n",
    "<b>Time</b> - For time in the format HH:MM:SS<br>\n",
    "<b>DATETIME</b> - For date and time in the format YYYY-MM-DD HH:MM:SS\n",
    "\n",
    "Note that at the \"id\" column, we first use INT to specify that the column contains numbers and then add <b>AUTO_INCREMENT</b> to automatically increase the number and ensure a unique ID for each row.\n",
    "\n",
    "At the end, we use <b>PRIMARY</b> to set the \"id\" column as the primary key. The primary key uniquely identifies each record (row) in the table, which becomes very useful later when we update the database. When you select Primary a small window will pop-up like the following. Just click Go.\n",
    "\n",
    "<img src=\"http://www.hermonswebsites.com/PyNotebooks/HTML_CSS_PHP/21/primary.png\">\n",
    "\n",
    "At this time you should set the names of the columns and set the data types as seen below. Also don't forget to set the Auto Increment and Primary Key on the id column.\n",
    "\n",
    "<img src=\"http://www.hermonswebsites.com/PyNotebooks/HTML_CSS_PHP/21/thetable.png\">\n",
    "\n",
    "After you have successfully created this table in your database you can go on to the next chapter. In the next four chapters, we look at how to insert, retrieve, update and delete data in a database."
   ]
  },
  {
   "cell_type": "markdown",
   "metadata": {
    "deletable": true,
    "editable": true
   },
   "source": [
    "<table style=\"background-color: #FFFFFF; border: 1px solid #000000; width: 100%; padding: 2px;\">\n",
    "<tr style=\"background-color: #0000FF;\">\n",
    "<td width=\"90\" style=\"vertical-align: top; border: 1px solid #000000;\"><img src=\"http://www.hermonswebsites.com/PyNotebooks/HTML_CSS_PHP/00/WebWiz.png\" style=\"border: 2px solid #021a40;\">\n",
    "</td><td style=\"border: 1px solid #000000; color: #FFFFFF;\"><h2><center><b>Web Wizardry Task</b></center></h2></td></tr>\n",
    "<tr>\n",
    "<td valign=\"top\" colspan=\"2\" style=\"text-align: left;\"><font size=\"+1\"><center><h2><u>Voldemort's Rolodex Part 1</u></h2></center>\n",
    "<br>\n",
    "&nbsp;&nbsp;&nbsp;&nbsp;&nbsp;&nbsp;&nbsp;Create the table in your database. You do not have to demonstrate to your instructor until the end of the project build.\n",
    "                        </font></td></tr></table>"
   ]
  },
  {
   "cell_type": "markdown",
   "metadata": {
    "deletable": true,
    "editable": true
   },
   "source": [
    "<table  style=\"background-color: #FFFFFF; width: 100%; padding: 2px;\">\n",
    "<tr style=\"background-color: #FFFFFF;\">\n",
    "<td style=\"border: 1px solid white;\" width=\"100px\">\n",
    "<div>\n",
    "<a href=\"http://nbviewer.ipython.org/github/CSP-UHS/Web-Development/blob/master/Chapter20.ipynb\"><img src=\"http://www.hermonswebsites.com/PyNotebooks/HTML_CSS_PHP/leftA.png\" height=\"50px\" width=\"50px\" align=\"left\"></a>\n",
    "</div>\n",
    "</td>\n",
    "<td style=\"border: 1px solid white;\">\n",
    "<div align=\"center\">\n",
    "<a href=\"http://nbviewer.ipython.org/github/CSP-UHS/Web-Development/blob/master/Chapter00.ipynb\"><h2>Table of Contents</h2></a>\n",
    "</div>\n",
    "</td>\n",
    "<td style=\"border: 1px solid white;\" width=\"100px\">\n",
    "<div>\n",
    "<a href=\"http://nbviewer.ipython.org/github/CSP-UHS/Web-Development/blob/master/Chapter22.ipynb\"><img src=\"http://www.hermonswebsites.com/PyNotebooks/HTML_CSS_PHP/rightA.png\"  height=\"50px\" width=\"50px\"  align=\"right\"></a>\n",
    "</div>\n",
    "</td>\n",
    "</tr></table>"
   ]
  }
 ],
 "metadata": {
  "kernelspec": {
   "display_name": "Python 3",
   "language": "python",
   "name": "python3"
  },
  "language_info": {
   "codemirror_mode": {
    "name": "ipython",
    "version": 3
   },
   "file_extension": ".py",
   "mimetype": "text/x-python",
   "name": "python",
   "nbconvert_exporter": "python",
   "pygments_lexer": "ipython3",
   "version": "3.5.2"
  }
 },
 "nbformat": 4,
 "nbformat_minor": 0
}
