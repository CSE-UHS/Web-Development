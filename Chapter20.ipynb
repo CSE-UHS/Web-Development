{
 "cells": [
  {
   "cell_type": "markdown",
   "metadata": {},
   "source": [
    "<div align=\"right\">\n",
    "<a href=\"http://nbviewer.ipython.org/github/CSE-UHS/Web-Development/blob/master/Chapter00.ipynb\" align=\"right\"><h2>Table of Contents</h2></a>\n",
    "</div>"
   ]
  },
  {
   "cell_type": "markdown",
   "metadata": {},
   "source": [
    "# Chapter 20: HTML Forms"
   ]
  },
  {
   "cell_type": "markdown",
   "metadata": {},
   "source": [
    "Interactive websites require input from users. One of the most common ways to get input is with forms. The data can be stored in a database or simply passed on to another PHP page to be used. In this chapter, we will look at how to build HTML forms and process the user input on the server."
   ]
  },
  {
   "cell_type": "markdown",
   "metadata": {},
   "source": [
    "## Basic Form Structure"
   ]
  },
  {
   "cell_type": "markdown",
   "metadata": {},
   "source": [
    "The open and close tags for a form in HTML are probably what you expect. <b>&lt;form&gt;</b> and <b>&lt;/form&gt;</b> When you code a form, there are two particular important attributes: <b>action</b> and <b>method</b>.\n",
    "\n",
    "<h3>action</h3>\n",
    "Is used to enter the URL where the form will be sending the data. It would be the PHP file that you want to handle the input. If the action attribute is not used it will send the data back to itself.\n",
    "\n",
    "<h3>method</h3>\n",
    "Can either have the value <b>\"post\"</b> or <b>\"get\"</b>, which are two different methods to pass data. Below is a chart that shows some of the differences between the methods. Generally, the safer method and the one that we will use will be the <b>POST</b> method.\n",
    "\n",
    "<img src=\"https://dl.dropboxusercontent.com/u/90219577/Hermon/CSE_Website/webdev/20/getpost.png\">\n",
    "\n",
    "The page that contains the form doesn't need to be a PHP file (but it can be). It need not even be on the same site as the file that will receive the data. At this time create two PHP files. Name the first file <b>sendform.php</b>. In this file we will be creating our actual form. Create another file called <b>receiveform.php</b>. This will be the file that we will be sending our data to.\n",
    "\n",
    "In <b>sendform.php</b> start by coding the basic form structure with the <b>body</b> tags of your document as seen below. Notice the method is POST and the action is the URL to where we will be passing our data (variables).\n",
    "\n",
    "<img src=\"https://dl.dropboxusercontent.com/u/90219577/Hermon/CSE_Website/webdev/20/formstructure.png\">"
   ]
  },
  {
   "cell_type": "markdown",
   "metadata": {},
   "source": [
    "## Input Types"
   ]
  },
  {
   "cell_type": "markdown",
   "metadata": {},
   "source": [
    "## text"
   ]
  },
  {
   "cell_type": "markdown",
   "metadata": {},
   "source": [
    "This form element creates a text box for the user to enter some text. As you can see the <b>input type</b> is <b>text</b>. The <b>name</b> attibute is very important because that will be the variable name that will store whatever the user enters into the text box. As you can see the <b>name</b> of the first text box is <b>firstname</b>. These means that if I enter <b>Marc</b> into that text box and submit the form (which we will show you shortly) then on the next page, <b>receiveform.php</b> there will be a variable called, <b>$firstname = 'Marc'</b>. Obviously, I had to choose a different variable name for the lastname text box. Make sure you take some time to look at this form on your server.\n",
    "\n",
    "If you want to pre-populate the text box with something you can set a <b>value</b> attribute as is demonstrated below.\n",
    "\n",
    "<img src=\"https://dl.dropboxusercontent.com/u/90219577/Hermon/CSE_Website/webdev/20/text.png\">"
   ]
  },
  {
   "cell_type": "markdown",
   "metadata": {},
   "source": [
    "## password"
   ]
  },
  {
   "cell_type": "markdown",
   "metadata": {},
   "source": [
    "Let's say you want a user to enter a username and a password. You could easily use the <b>text</b> input above. However, you might not want someone looking over your shoulder trying to see your password. As you know most passwords are masked (shown as asterisks or circles). This is very simple to do. Just change <b>text</b> to <b>password</b>\n",
    "\n",
    "Try it out on your server!\n",
    "\n",
    "<img src=\"https://dl.dropboxusercontent.com/u/90219577/Hermon/CSE_Website/webdev/20/password.png\">"
   ]
  },
  {
   "cell_type": "markdown",
   "metadata": {},
   "source": [
    "## submit"
   ]
  },
  {
   "cell_type": "markdown",
   "metadata": {},
   "source": [
    "Before we go to much further we need to find out how to submit this form. It is simply another input type called <b>Submit</b>. This creates a button that when clicked will submit the form and send all of your variables to <b>receiveform.php</b>. The <b>value</b> can say \"Submit\" or \"Go!\" or \"Click Me!\" or whatever. Again, try this out on your server.\n",
    "\n",
    "<img src=\"https://dl.dropboxusercontent.com/u/90219577/Hermon/CSE_Website/webdev/20/submit.png\">"
   ]
  },
  {
   "cell_type": "markdown",
   "metadata": {},
   "source": [
    "## radio"
   ]
  },
  {
   "cell_type": "markdown",
   "metadata": {},
   "source": [
    "Below is how you can use radio buttons. Radio buttons let a user select <b>ONLY ONE</b> of a limited number of choices. In the example below the input will be assigned to a variable named <b>$mychoice</b>. If you want to have a choice pre-selected because you think most people will probably put that answer you simply put the word <b>checked</b> at the end of the <b>input</b> tag.\n",
    "\n",
    "<img src=\"https://dl.dropboxusercontent.com/u/90219577/Hermon/CSE_Website/webdev/20/radio.png\">"
   ]
  },
  {
   "cell_type": "markdown",
   "metadata": {},
   "source": [
    "## checkbox"
   ]
  },
  {
   "cell_type": "markdown",
   "metadata": {},
   "source": [
    "Checkboxes let a user select ZERO or MORE options of a limited number of choices. Notice that unlike <b>radio buttons</b> you can choose more than one. This means that each selection needs to have a different variable name.\n",
    "\n",
    "<img src=\"https://dl.dropboxusercontent.com/u/90219577/Hermon/CSE_Website/webdev/20/checkboxes.png\">"
   ]
  },
  {
   "cell_type": "markdown",
   "metadata": {},
   "source": [
    "There are several other <b>Input Types</b> for forms such as <b>date</b> which will show a date picker to the user. Many of these however are browser dependent. There are also many other attibutes that we can use such as <b>maxlength</b> which determines how many characters can be entered into a text box. Feel free to research and learn more about these as begin developing web pages."
   ]
  },
  {
   "cell_type": "markdown",
   "metadata": {},
   "source": [
    "## The &lt;select&gt; Element (Drop-Down List)"
   ]
  },
  {
   "cell_type": "markdown",
   "metadata": {},
   "source": [
    "The <b>select</b> element defines a drop-down list. Notice that there are opening and closing <b>select</b> tags. The attribute <b>name</b> of the <b>select</b> statement provides the variable name to be passed to the next page. The <b>option</b> elements defines the options to select. The list will normally show the first item as selected. However you can add a selected attribute to define a predefined option as we did below.\n",
    "\n",
    "<img src=\"https://dl.dropboxusercontent.com/u/90219577/Hermon/CSE_Website/webdev/20/dropdown.png\">"
   ]
  },
  {
   "cell_type": "markdown",
   "metadata": {},
   "source": [
    "## The &lt;textarea&gt; Element"
   ]
  },
  {
   "cell_type": "markdown",
   "metadata": {},
   "source": [
    "The <b>textarea</b> element defines a multi-line input field (a text area). Again, there are opening and closing <b>textarea</b> tags. The attribute <b>rows</b> and <b>cols</b> are used to basically decide on the width and height of the box. A pre-loaded message can be placed between the <b>textarea</b> tags.\n",
    "\n",
    "<img src=\"https://dl.dropboxusercontent.com/u/90219577/Hermon/CSE_Website/webdev/20/textbox.png\">"
   ]
  },
  {
   "cell_type": "markdown",
   "metadata": {},
   "source": [
    "There are many other form elements that you might find useful but we have listed all of the most common. If you are wanting to try to do something else in a form just go online and try to research it."
   ]
  },
  {
   "cell_type": "markdown",
   "metadata": {},
   "source": [
    "## Requesting Data"
   ]
  },
  {
   "cell_type": "markdown",
   "metadata": {},
   "source": [
    "The <b>textarea</b> element defines a multi-line input field (a text area). Again, there are opening and closing <b>textarea</b> tags. The attribute <b>rows</b> and <b>cols</b> are used to basically decide on the width and height of the box. A pre-loaded message can be placed between the <b>textarea</b> tags.\n",
    "\n",
    "<img src=\"https://dl.dropboxusercontent.com/u/90219577/Hermon/CSE_Website/webdev/20/textbox.png\">"
   ]
  },
  {
   "cell_type": "markdown",
   "metadata": {},
   "source": [
    "<table width=\"100%\" border=\"1\" cellpadding=\"2\" cellspacing=\"0\">\n",
    "<tr>\n",
    "<td width=\"90\" bgcolor=\"#0000FF\" style=\"vertical-align:top\"><img src=\"https://dl.dropboxusercontent.com/u/90219577/Hermon/CSE_Website/webdev/00/WebWiz.png\" style=\"border:2px solid #021a40;\"><center><b>\n",
    "<font color=\"#FFFFFF\">Web<br>Wizardry<br>Task</font></b></center></td>\n",
    "<td valign=\"top\">\n",
    "<center><h1>Fibonacci( )</h1></center><br>\n",
    "\n",
    "<center><h3>Rewrite the Fibonacci function in PHP for any given &#36;num. <br/>Use CSS to alternate the colors of the output with red and blue.</h3></center>\n",
    "<br>\n",
    "<img src=\"https://dl.dropboxusercontent.com/u/90219577/Hermon/CSE_Website/webdev/19/fibo.png\">\n",
    "\n",
    "</td></tr></table>"
   ]
  },
  {
   "cell_type": "markdown",
   "metadata": {},
   "source": [
    "<div align=\"right\">\n",
    "<a href=\"http://nbviewer.ipython.org/github/CSE-UHS/Web-Development/blob/master/Chapter00.ipynb\" align=\"right\"><h2>Table of Contents</h2></a>\n",
    "</div>"
   ]
  }
 ],
 "metadata": {
  "kernelspec": {
   "display_name": "Python 2",
   "language": "python",
   "name": "python2"
  },
  "language_info": {
   "codemirror_mode": {
    "name": "ipython",
    "version": 2
   },
   "file_extension": ".py",
   "mimetype": "text/x-python",
   "name": "python",
   "nbconvert_exporter": "python",
   "pygments_lexer": "ipython2",
   "version": "2.7.10"
  }
 },
 "nbformat": 4,
 "nbformat_minor": 0
}
